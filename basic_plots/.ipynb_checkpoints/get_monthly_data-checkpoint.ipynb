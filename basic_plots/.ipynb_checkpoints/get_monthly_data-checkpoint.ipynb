{
 "cells": [
  {
   "cell_type": "code",
   "execution_count": 1,
   "metadata": {},
   "outputs": [],
   "source": [
    "import netCDF4 as nc\n",
    "import pylab as plt\n",
    "import numpy as np\n",
    "from mpl_toolkits.basemap import Basemap, shiftgrid\n",
    "import cf\n",
    "import cfplot as cfp\n",
    "import matplotlib\n",
    "import numpy.ma as MA"
   ]
  },
  {
   "cell_type": "code",
   "execution_count": 3,
   "metadata": {},
   "outputs": [],
   "source": [
    "#constants\n",
    "mr_o3 = 48.\n",
    "per_sec_to_per_yr = 60*60*24*360\n",
    "g_to_Tg = 1e12"
   ]
  },
  {
   "cell_type": "code",
   "execution_count": 4,
   "metadata": {},
   "outputs": [],
   "source": [
    "data = nc.Dataset('/shared/netscratch/ptg21/UM_data/xltln/xltln_o3.nc')\n",
    "#extract variables to arrays\n",
    "ch4 = data.variables['o3'][:]*28./mr_o3*1e9\n",
    "lat = data.variables['latitude'][:]\n",
    "lon = data.variables['longitude'][:]\n",
    "box_no = data.variables['model_level_number'][:]\n",
    "alt = data.variables['level_height'][:]\n",
    "\n",
    "time = data.variables['time']\n",
    "dtime = nc.num2date(time[:],time.units)\n",
    "\n",
    "#ch4, lon = shiftgrid(180.,ch4,lon,start=False)"
   ]
  },
  {
   "cell_type": "code",
   "execution_count": 5,
   "metadata": {},
   "outputs": [],
   "source": [
    "data_lbc = nc.Dataset('/shared/netscratch/ptg21/UM_data/xgywn/xgywn_pm7-9.nc')\n",
    "#extract variables to arrays\n",
    "ch4_lbc = data_lbc.variables['field34001'][:]*28./mr_o3*1e9\n",
    "lat_lbc = data_lbc.variables['latitude'][:]\n",
    "lon_lbc = data_lbc.variables['longitude'][:]\n",
    "#box_no_lbc = data_lbc.variables['model_level_number'][:]\n",
    "alt_lbc = data_lbc.variables['hybrid_ht'][:]\n",
    "\n",
    "time_lbc = data_lbc.variables['t']\n",
    "dtime_lbc = nc.num2date(time_lbc[:],time_lbc.units)\n",
    "\n",
    "#ch4_lbc, lon_lbc = shiftgrid(180.,ch4_lbc,lon_lbc,start=False)"
   ]
  },
  {
   "cell_type": "code",
   "execution_count": 6,
   "metadata": {},
   "outputs": [],
   "source": [
    "#extract month from datetime object\n",
    "def get_month(arr):\n",
    "    months = np.empty((len(arr)))\n",
    "    for i in range(len(arr)):\n",
    "        months[i] = arr[i].month\n",
    "    return months\n",
    "\n",
    "ch4_xl_months = get_month(dtime)\n",
    "ch4_xg_months = get_month(dtime_lbc)"
   ]
  },
  {
   "cell_type": "code",
   "execution_count": null,
   "metadata": {},
   "outputs": [],
   "source": [
    "#select month\n",
    "def select_month_data(month,month_list,arr):\n",
    "    month_indices = []\n",
    "    jan_ch4 = []\n",
    "    for i in range(len(month_list)):\n",
    "        if np.int(month_list[i]) == month:\n",
    "            month_indices.append(i)\n",
    "            jan_ch4.append(arr[i,:,:,:])\n",
    "    return(np.array(jan_ch4))"
   ]
  },
  {
   "cell_type": "code",
   "execution_count": 23,
   "metadata": {},
   "outputs": [
    {
     "name": "stdout",
     "output_type": "stream",
     "text": [
      "(11, 60, 73, 96)\n"
     ]
    }
   ],
   "source": [
    "#change integer to select month\n",
    "a = 1\n",
    "b = 2\n",
    "\n",
    "ch4_a = select_month_data(a,ch4_xl_months,ch4)\n",
    "ch4_b = select_month_data(b,ch4_xl_months,ch4)\n",
    "ch4_a_lbc = select_month_data(a,ch4_xg_months,ch4_lbc)\n",
    "ch4_b_lbc = select_month_data(b,ch4_xg_months,ch4_lbc)\n",
    "print(ch4_a.shape)"
   ]
  },
  {
   "cell_type": "code",
   "execution_count": 24,
   "metadata": {},
   "outputs": [],
   "source": [
    "#seasonal mean from months, over lon and time\n",
    "ch4_mean = np.mean(np.concatenate((ch4_a,ch4_b)), axis=(0,3))\n",
    "ch4_mean_lbc = np.mean(np.concatenate((ch4_a_lbc, ch4_b_lbc)), axis=(0,3))"
   ]
  },
  {
   "cell_type": "code",
   "execution_count": 25,
   "metadata": {},
   "outputs": [],
   "source": [
    "lat_bands_ch4_obs = np.load('/shared/netscratch/znjs2/atom_data_02_20/ch4_lat_binned_ja_3.npy')\n",
    "yvals = np.linspace(0,12000)\n",
    "base_obs = lat_bands_ch4_obs[0,0]"
   ]
  },
  {
   "cell_type": "markdown",
   "metadata": {},
   "source": [
    "Plot vertical profile for CH4 data with latitude bands meaned"
   ]
  },
  {
   "cell_type": "code",
   "execution_count": 26,
   "metadata": {},
   "outputs": [
    {
     "name": "stdout",
     "output_type": "stream",
     "text": [
      "(6, 60)\n"
     ]
    }
   ],
   "source": [
    "lat_bands_ch4 = np.empty((6,60))\n",
    "base_em = np.zeros(6)\n",
    "\n",
    "for i in range(-90,90,30):\n",
    "    ind1 = list(lat).index(i)\n",
    "    ind2 = list(lat).index(i+30)\n",
    "    lat_data = ch4_mean[:,ind1:ind2]\n",
    "    lat_mean = np.mean(lat_data, axis=1)\n",
    "    ind3 = np.int((i+90)/30)\n",
    "    base_em[ind3] = lat_mean[0]\n",
    "    lat_bands_ch4[ind3,:] = lat_mean\n",
    "\n",
    "print(lat_bands_ch4.shape)"
   ]
  },
  {
   "cell_type": "code",
   "execution_count": 27,
   "metadata": {},
   "outputs": [],
   "source": [
    "lat_bands_ch4_lbc = np.empty((6,60))\n",
    "base_lbc = np.zeros(6)\n",
    "\n",
    "for i in range(-90,90,30):\n",
    "    ind1 = list(lat_lbc).index(i)\n",
    "    ind2 = list(lat_lbc).index(i+30)\n",
    "    lat_data = ch4_mean_lbc[:,ind1:ind2]\n",
    "    lat_mean = np.mean(lat_data, axis=1)\n",
    "    ind3=np.int((i+90)/30)\n",
    "    base_lbc[ind3] = lat_mean[0]\n",
    "    lat_bands_ch4_lbc[ind3,:] = lat_mean"
   ]
  },
  {
   "cell_type": "code",
   "execution_count": 30,
   "metadata": {},
   "outputs": [
    {
     "name": "stdout",
     "output_type": "stream",
     "text": [
      "[9.771403638562338, 10.586631882092838, 14.82242991746908, 14.808774633449092, 9.833826143187673, 8.83356524482878]\n"
     ]
    }
   ],
   "source": [
    "#get ozone 100ppb level\n",
    "alt_ozone_100 = []\n",
    "for i in range(6):\n",
    "    alt_ozone = np.interp(100,lat_bands_ch4[i,:],alt)/1000\n",
    "    alt_ozone_100.append(alt_ozone)\n",
    "    \n",
    "print(alt_ozone_100)"
   ]
  },
  {
   "cell_type": "code",
   "execution_count": 31,
   "metadata": {},
   "outputs": [],
   "source": [
    "np.save('/shared/netscratch/znjs2/ch4_prof_data/alt_ozone_100_xltln_JF.npy',alt_ozone_100)"
   ]
  },
  {
   "cell_type": "code",
   "execution_count": null,
   "metadata": {},
   "outputs": [],
   "source": []
  }
 ],
 "metadata": {
  "kernelspec": {
   "display_name": "Python 3",
   "language": "python",
   "name": "python3"
  },
  "language_info": {
   "codemirror_mode": {
    "name": "ipython",
    "version": 3
   },
   "file_extension": ".py",
   "mimetype": "text/x-python",
   "name": "python",
   "nbconvert_exporter": "python",
   "pygments_lexer": "ipython3",
   "version": "3.7.3"
  }
 },
 "nbformat": 4,
 "nbformat_minor": 2
}
