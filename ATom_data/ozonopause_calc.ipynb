{
 "cells": [
  {
   "cell_type": "code",
   "execution_count": 1,
   "metadata": {},
   "outputs": [],
   "source": [
    "import pandas as pd\n",
    "import numpy as np\n",
    "import matplotlib.pyplot as plt\n",
    "import matplotlib"
   ]
  },
  {
   "cell_type": "code",
   "execution_count": 11,
   "metadata": {},
   "outputs": [],
   "source": [
    "#variable values from np polyfit function\n",
    "infile = '/shared/netscratch/znjs2/atom_data_02_20/o3_lat_binned_jf_custom.npy'\n",
    "outfile = '/shared/netscratch/znjs2/ch4_prof_data/alt_ozone_100_ATom_JF.npy'"
   ]
  },
  {
   "cell_type": "code",
   "execution_count": 12,
   "metadata": {},
   "outputs": [],
   "source": [
    "ozone_vals = np.load(infile)\n",
    "yvals = np.linspace(0,12000)"
   ]
  },
  {
   "cell_type": "code",
   "execution_count": 14,
   "metadata": {},
   "outputs": [
    {
     "name": "stdout",
     "output_type": "stream",
     "text": [
      "[8.235254846134739, 10.961698635070526, 12.0, 12.0, 9.745893619858457, 7.703201056754411]\n"
     ]
    }
   ],
   "source": [
    "#get ozone 100ppb level\n",
    "alt_ozone_100 = []\n",
    "for i in range(6):\n",
    "    alt_ozone = np.interp(100,ozone_vals[i,:],yvals)/1000\n",
    "    alt_ozone_100.append(alt_ozone)\n",
    "    \n",
    "print(alt_ozone_100)"
   ]
  },
  {
   "cell_type": "code",
   "execution_count": 15,
   "metadata": {},
   "outputs": [],
   "source": [
    "np.save(outfile,alt_ozone_100)"
   ]
  },
  {
   "cell_type": "code",
   "execution_count": null,
   "metadata": {},
   "outputs": [],
   "source": []
  }
 ],
 "metadata": {
  "kernelspec": {
   "display_name": "Python 3",
   "language": "python",
   "name": "python3"
  },
  "language_info": {
   "codemirror_mode": {
    "name": "ipython",
    "version": 3
   },
   "file_extension": ".py",
   "mimetype": "text/x-python",
   "name": "python",
   "nbconvert_exporter": "python",
   "pygments_lexer": "ipython3",
   "version": "3.7.3"
  }
 },
 "nbformat": 4,
 "nbformat_minor": 2
}
