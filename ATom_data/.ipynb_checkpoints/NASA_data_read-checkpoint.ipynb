{
 "cells": [
  {
   "cell_type": "code",
   "execution_count": 1,
   "metadata": {},
   "outputs": [],
   "source": [
    "import pandas as pd\n",
    "from datetime import datetime\n",
    "import pylab as plt\n",
    "import numpy as np\n",
    "import glob\n",
    "import os\n",
    "import sys"
   ]
  },
  {
   "cell_type": "markdown",
   "metadata": {},
   "source": [
    "### Choose columns and path/file to write csv to"
   ]
  },
  {
   "cell_type": "code",
   "execution_count": 2,
   "metadata": {},
   "outputs": [],
   "source": [
    "col_names = ['UTC_Start','G_LAT', 'G_LONG', 'G_ALT','CO_PECD','COe_PECD']\n",
    "#col_names = ['UTC_Start','G_LAT', 'G_LONG', 'G_ALT','CH4_PECD','CH4e_PECD'] #methane\n",
    "\n",
    "outfilepath = r'/home/znjs2/input_data/atom_data_02_20/processed/all_atom_co_data_datetime.csv'"
   ]
  },
  {
   "cell_type": "code",
   "execution_count": 3,
   "metadata": {},
   "outputs": [],
   "source": [
    "#atom_merged_file = r\"/shared/netscratch/znjs2/atom_data_02_20/MER-1HZ_DC8_20160729_R33.ict\" #Path to file\n",
    "#first_line_of_data = pd.read_csv(atom_merged_file, delimiter=',', nrows=1, header=None)\n",
    "#no_of_rows_to_skip = first_line_of_data[0]\n",
    "#no_of_rows_to_skip_integer = no_of_rows_to_skip.item() # This code reads the no. of rows to skip\n",
    "#atom_merged_data = pd.read_csv(atom_merged_file, \n",
    "#                               delimiter=',', \n",
    "#                               skiprows= no_of_rows_to_skip_integer - 1, \n",
    "#                               na_values = [-99999, -9999, -999, -888])"
   ]
  },
  {
   "cell_type": "markdown",
   "metadata": {},
   "source": [
    "### Read in data"
   ]
  },
  {
   "cell_type": "code",
   "execution_count": 4,
   "metadata": {},
   "outputs": [
    {
     "name": "stderr",
     "output_type": "stream",
     "text": [
      "/home/znjs2/.conda/envs/basemap/lib/python3.7/site-packages/ipykernel_launcher.py:9: FutureWarning: `item` has been deprecated and will be removed in a future version\n",
      "  if __name__ == '__main__':\n"
     ]
    }
   ],
   "source": [
    "path = r'/shared/netscratch/znjs2/atom_data_02_20' # path to file\n",
    "all_files = glob.glob(path + \"/*.ict\")\n",
    "\n",
    "li = []\n",
    "\n",
    "for filename in all_files:\n",
    "    first_line_of_data = pd.read_csv(filename, delimiter=',', nrows=1, header=None)\n",
    "    no_of_rows_to_skip = first_line_of_data[0]\n",
    "    no_of_rows_to_skip_integer = no_of_rows_to_skip.item()\n",
    "    df = pd.read_csv(filename,delimiter=',', \n",
    "                     skiprows= no_of_rows_to_skip_integer - 1,\n",
    "                     index_col=0, \n",
    "                     parse_dates=[0],\n",
    "                     usecols=col_names,\n",
    "                    na_values='-99999.0')\n",
    "    #extract start date from filename\n",
    "    date = filename[53:61]\n",
    "    datestring = f'{date[0:4]}-{date[4:6]}-{date[6:8]}'\n",
    "    #convert to datetime\n",
    "    df['UTC_Start_dt']=pd.to_datetime(df.index, unit='s',  origin = datestring)\n",
    "    df.index = df['UTC_Start_dt']\n",
    "    \n",
    "    #print(df.shape[1])\n",
    "    li.append(df)\n",
    "\n",
    "frame = pd.concat(li, axis=0)"
   ]
  },
  {
   "cell_type": "code",
   "execution_count": 5,
   "metadata": {},
   "outputs": [],
   "source": [
    "frame = frame.drop(['UTC_Start_dt'], axis=1)"
   ]
  },
  {
   "cell_type": "code",
   "execution_count": 6,
   "metadata": {},
   "outputs": [
    {
     "name": "stdout",
     "output_type": "stream",
     "text": [
      "                        G_LAT     G_LONG  G_ALT  CO_PECD  COe_PECD\n",
      "UTC_Start_dt                                                      \n",
      "2017-10-27 18:24:34  61.17635 -150.00177  143.0      NaN       NaN\n",
      "2017-10-27 18:24:35  61.17567 -150.00139  154.1      NaN       NaN\n",
      "2017-10-27 18:24:36  61.17499 -150.00101  165.9      NaN       NaN\n"
     ]
    }
   ],
   "source": [
    "print(frame[:3])"
   ]
  },
  {
   "cell_type": "code",
   "execution_count": 7,
   "metadata": {},
   "outputs": [],
   "source": [
    "#write to csv\n",
    "frame.to_csv(outfilepath)"
   ]
  },
  {
   "cell_type": "markdown",
   "metadata": {},
   "source": [
    "### Visualise data over time"
   ]
  },
  {
   "cell_type": "code",
   "execution_count": 8,
   "metadata": {},
   "outputs": [
    {
     "name": "stderr",
     "output_type": "stream",
     "text": [
      "/home/znjs2/.conda/envs/basemap/lib/python3.7/site-packages/pandas/plotting/_matplotlib/converter.py:103: FutureWarning: Using an implicitly registered datetime converter for a matplotlib plotting method. The converter was registered by pandas on import. Future versions of pandas will require you to explicitly register matplotlib converters.\n",
      "\n",
      "To register the converters:\n",
      "\t>>> from pandas.plotting import register_matplotlib_converters\n",
      "\t>>> register_matplotlib_converters()\n",
      "  warnings.warn(msg, FutureWarning)\n"
     ]
    },
    {
     "data": {
      "text/plain": [
       "Text(0, 0.5, 'CO_PECD')"
      ]
     },
     "execution_count": 8,
     "metadata": {},
     "output_type": "execute_result"
    },
    {
     "data": {
      "image/png": "[encoded data removed]",
      "text/plain": [
       "<Figure size 600x400 with 1 Axes>"
      ]
     },
     "metadata": {
      "needs_background": "light"
     },
     "output_type": "display_data"
    }
   ],
   "source": [
    "fig = plt.figure(dpi=100)\n",
    "ax = plt.axes()\n",
    "x = list(range(len(frame)))\n",
    "ax.scatter(frame.index, frame.iloc[:,3])\n",
    "plt.xlabel('Time')\n",
    "plt.ylabel(f'{frame.columns[3]}')"
   ]
  },
  {
   "cell_type": "code",
   "execution_count": null,
   "metadata": {},
   "outputs": [],
   "source": []
  }
 ],
 "metadata": {
  "kernelspec": {
   "display_name": "Python 3",
   "language": "python",
   "name": "python3"
  },
  "language_info": {
   "codemirror_mode": {
    "name": "ipython",
    "version": 3
   },
   "file_extension": ".py",
   "mimetype": "text/x-python",
   "name": "python",
   "nbconvert_exporter": "python",
   "pygments_lexer": "ipython3",
   "version": "3.7.3"
  }
 },
 "nbformat": 4,
 "nbformat_minor": 2
}
