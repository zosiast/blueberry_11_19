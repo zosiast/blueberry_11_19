{
 "cells": [
  {
   "cell_type": "code",
   "execution_count": 1,
   "metadata": {},
   "outputs": [],
   "source": [
    "import pandas as pd\n",
    "from datetime import datetime\n",
    "import pylab as plt\n",
    "import numpy as np\n",
    "import glob\n",
    "import os\n",
    "import sys"
   ]
  },
  {
   "cell_type": "code",
   "execution_count": 4,
   "metadata": {},
   "outputs": [
    {
     "name": "stderr",
     "output_type": "stream",
     "text": [
      "/home/znjs2/.conda/envs/basemap/lib/python3.7/site-packages/ipykernel_launcher.py:4: FutureWarning: `item` has been deprecated and will be removed in a future version\n",
      "  after removing the cwd from sys.path.\n"
     ]
    }
   ],
   "source": [
    "atom_merged_file = r\"/home/znjs2/blueberry_11_19/MER-1HZ_DC8_20160729_R33.ict\" #Path to file\n",
    "first_line_of_data = pd.read_csv(atom_merged_file, delimiter=',', nrows=1, header=None)\n",
    "no_of_rows_to_skip = first_line_of_data[0]\n",
    "no_of_rows_to_skip_integer = no_of_rows_to_skip.item() # This code reads the no. of rows to skip\n",
    "atom_merged_data = pd.read_csv(atom_merged_file, \n",
    "                               delimiter=',', \n",
    "                               skiprows= no_of_rows_to_skip_integer - 1, \n",
    "                               na_values = [-99999, -9999, -999, -888])"
   ]
  },
  {
   "cell_type": "code",
   "execution_count": 10,
   "metadata": {},
   "outputs": [],
   "source": [
    "path = r'/home/znjs2/blueberry_11_19/atom_data' # path to file\n",
    "all_files = glob.glob(path + \"/*.ict\")"
   ]
  },
  {
   "cell_type": "code",
   "execution_count": 3,
   "metadata": {},
   "outputs": [
    {
     "name": "stderr",
     "output_type": "stream",
     "text": [
      "/home/znjs2/.conda/envs/basemap/lib/python3.7/site-packages/ipykernel_launcher.py:9: FutureWarning: `item` has been deprecated and will be removed in a future version\n",
      "  if __name__ == '__main__':\n"
     ]
    }
   ],
   "source": [
    "path = r'/home/znjs2/blueberry_11_19/atom_data' # path to file\n",
    "all_files = glob.glob(path + \"/*.ict\")\n",
    "\n",
    "li = []\n",
    "\n",
    "for filename in all_files:\n",
    "    first_line_of_data = pd.read_csv(filename, delimiter=',', nrows=1, header=None)\n",
    "    no_of_rows_to_skip = first_line_of_data[0]\n",
    "    no_of_rows_to_skip_integer = no_of_rows_to_skip.item()\n",
    "    df = pd.read_csv(filename,delimiter=',', \n",
    "                     skiprows= no_of_rows_to_skip_integer - 1,\n",
    "                     index_col=0, \n",
    "                     parse_dates=[0],\n",
    "                     usecols=['UTC_Start','G_LAT', 'G_LONG', 'G_ALT','CH4_PECD',\n",
    "                              'CH4e_PECD','CH4_GMI','CH4_NOAA','CH4_UCATS','CH4e_UCATS'])\n",
    "    #print(df.shape[1])\n",
    "    li.append(df)\n",
    "\n",
    "frame = pd.concat(li, axis=0)"
   ]
  },
  {
   "cell_type": "code",
   "execution_count": 4,
   "metadata": {},
   "outputs": [
    {
     "name": "stdout",
     "output_type": "stream",
     "text": [
      "              G_LAT     G_LONG  G_ALT  CH4_PECD  CH4e_PECD  CH4_GMI  CH4_NOAA  \\\n",
      "UTC_Start                                                                       \n",
      "73265.0   -43.47749  172.54577   88.7  -99999.0   -99999.0 -99999.0 -99999.00   \n",
      "73266.0   -43.47688  172.54648   98.1  -99999.0   -99999.0 -99999.0 -99999.00   \n",
      "73267.0   -43.47627  172.54718  108.3  -99999.0   -99999.0 -99999.0 -99999.00   \n",
      "73268.0   -43.47567  172.54789  118.8  -99999.0   -99999.0 -99999.0 -99999.00   \n",
      "73269.0   -43.47507  172.54859  129.5  -99999.0   -99999.0 -99999.0 -99999.00   \n",
      "...             ...        ...    ...       ...        ...      ...       ...   \n",
      "69905.0    -7.96683  -14.39985  112.8  -99999.0   -99999.0 -99999.0   1816.99   \n",
      "69906.0    -7.96706  -14.39937  112.6  -99999.0   -99999.0 -99999.0 -99999.00   \n",
      "69907.0    -7.96728  -14.39891  112.3  -99999.0   -99999.0 -99999.0   1817.49   \n",
      "69908.0    -7.96749  -14.39846  111.9  -99999.0   -99999.0 -99999.0 -99999.00   \n",
      "69909.0    -7.96770  -14.39804  111.4  -99999.0   -99999.0 -99999.0   1817.02   \n",
      "\n",
      "           CH4_UCATS  CH4e_UCATS  \n",
      "UTC_Start                         \n",
      "73265.0     -99999.0    -99999.0  \n",
      "73266.0     -99999.0    -99999.0  \n",
      "73267.0     -99999.0    -99999.0  \n",
      "73268.0     -99999.0    -99999.0  \n",
      "73269.0     -99999.0    -99999.0  \n",
      "...              ...         ...  \n",
      "69905.0     -99999.0    -99999.0  \n",
      "69906.0     -99999.0    -99999.0  \n",
      "69907.0     -99999.0    -99999.0  \n",
      "69908.0     -99999.0    -99999.0  \n",
      "69909.0     -99999.0    -99999.0  \n",
      "\n",
      "[1490913 rows x 9 columns]\n"
     ]
    }
   ],
   "source": [
    "print(frame)"
   ]
  },
  {
   "cell_type": "code",
   "execution_count": 5,
   "metadata": {},
   "outputs": [],
   "source": [
    "frame.to_csv(r'/home/znjs2/blueberry_11_19/all_atom_ch4_data')"
   ]
  },
  {
   "cell_type": "code",
   "execution_count": 5,
   "metadata": {},
   "outputs": [],
   "source": [
    "atom_merged_data['UTC_Start_dt']=pd.to_datetime(atom_merged_data['UTC_Start'], unit='s',  origin = \"2016-07-29\")\n",
    "\n",
    "atom_merged_data.index = atom_merged_data['UTC_Start_dt']\n",
    "\n",
    "atom_merged_data_resampled = atom_merged_data.resample('0.5S').interpolate() #This code interpolates missing values - you may not actually want this, if not just hash it out.\n",
    "\n",
    "atom_merged_data_resampled.to_csv(r'/home/znjs2/blueberry_11_19/atom_merged_data_2016-07-29') #Saves file to somewhere you like"
   ]
  },
  {
   "cell_type": "code",
   "execution_count": 6,
   "metadata": {},
   "outputs": [
    {
     "name": "stdout",
     "output_type": "stream",
     "text": [
      "10\n"
     ]
    }
   ],
   "source": [
    "print(atom_merged_data_resampled.columns.get_loc('G_LAT'))"
   ]
  },
  {
   "cell_type": "code",
   "execution_count": 7,
   "metadata": {},
   "outputs": [
    {
     "name": "stdout",
     "output_type": "stream",
     "text": [
      "                         UTC_Start     G_LAT     G_LONG   G_ALT  CH4_PECD  \\\n",
      "UTC_Start_dt                                                                \n",
      "2016-07-29 14:33:17.000    52397.0  34.63100 -118.10631  795.50       NaN   \n",
      "2016-07-29 14:33:17.500    52397.5  34.63098 -118.10683  797.40       NaN   \n",
      "2016-07-29 14:33:18.000    52398.0  34.63096 -118.10735  799.30       NaN   \n",
      "2016-07-29 14:33:18.500    52398.5  34.63094 -118.10787  801.55       NaN   \n",
      "2016-07-29 14:33:19.000    52399.0  34.63092 -118.10839  803.80       NaN   \n",
      "\n",
      "                         CH4e_PECD  \n",
      "UTC_Start_dt                        \n",
      "2016-07-29 14:33:17.000        NaN  \n",
      "2016-07-29 14:33:17.500        NaN  \n",
      "2016-07-29 14:33:18.000        NaN  \n",
      "2016-07-29 14:33:18.500        NaN  \n",
      "2016-07-29 14:33:19.000        NaN  \n"
     ]
    }
   ],
   "source": [
    "ch4_data = atom_merged_data_resampled.iloc[:,[0,10,11,12,180,181]]\n",
    "print(ch4_data[:5])"
   ]
  },
  {
   "cell_type": "code",
   "execution_count": 1,
   "metadata": {},
   "outputs": [],
   "source": [
    "#print(ch4_data.iloc[:,4])"
   ]
  },
  {
   "cell_type": "code",
   "execution_count": null,
   "metadata": {},
   "outputs": [],
   "source": []
  }
 ],
 "metadata": {
  "kernelspec": {
   "display_name": "Python 3",
   "language": "python",
   "name": "python3"
  },
  "language_info": {
   "codemirror_mode": {
    "name": "ipython",
    "version": 3
   },
   "file_extension": ".py",
   "mimetype": "text/x-python",
   "name": "python",
   "nbconvert_exporter": "python",
   "pygments_lexer": "ipython3",
   "version": "3.7.3"
  }
 },
 "nbformat": 4,
 "nbformat_minor": 2
}
