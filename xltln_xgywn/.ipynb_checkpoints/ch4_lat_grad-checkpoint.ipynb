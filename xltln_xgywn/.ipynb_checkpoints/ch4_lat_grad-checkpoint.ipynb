{
 "cells": [
  {
   "cell_type": "code",
   "execution_count": 6,
   "metadata": {},
   "outputs": [],
   "source": [
    "import netCDF4 as nc\n",
    "import pylab as plt\n",
    "import numpy as np\n",
    "from mpl_toolkits.basemap import Basemap, shiftgrid\n",
    "import cf\n",
    "import cfplot as cfp\n",
    "import matplotlib\n",
    "import numpy.ma as MA"
   ]
  },
  {
   "cell_type": "markdown",
   "metadata": {},
   "source": [
    "## Import xltln data with emissions included"
   ]
  },
  {
   "cell_type": "code",
   "execution_count": 7,
   "metadata": {},
   "outputs": [],
   "source": [
    "data = nc.Dataset('/shared/netscratch/ptg21/UM_data/xltln/xltln_ch4.nc')\n",
    "#extract variables to arrays\n",
    "ch4 = data.variables['ch4'][:]*28/16.*1e9 #ppb\n",
    "lat = data.variables['latitude'][:]\n",
    "lon = data.variables['longitude'][:]\n",
    "#alt = data.variables['level_height'][:]\n",
    "\n",
    "ch4, lon = shiftgrid(180.,ch4,lon,start=False)"
   ]
  },
  {
   "cell_type": "code",
   "execution_count": 18,
   "metadata": {},
   "outputs": [],
   "source": [
    "press_xl_data = nc.Dataset('/shared/netscratch/ptg21/UM_data/xltln/xltln_p.nc')\n",
    "press_xl = press_xl_data.variables['p']"
   ]
  },
  {
   "cell_type": "code",
   "execution_count": 20,
   "metadata": {},
   "outputs": [],
   "source": [
    "trop_press_xl_data = nc.Dataset('/shared/netscratch/ptg21/UM_data/xltln/xltln_troppres.nc')\n",
    "trop_press_xl = trop_press_xl_data.variables['p']"
   ]
  },
  {
   "cell_type": "code",
   "execution_count": 10,
   "metadata": {},
   "outputs": [],
   "source": [
    "#mass_data = nc.Dataset('/shared/netscratch/ptg21/UM_data/xltln/xltln_airmass.nc')\n",
    "#mass = mass_data.variables['airmass_atm']"
   ]
  },
  {
   "cell_type": "code",
   "execution_count": 11,
   "metadata": {},
   "outputs": [],
   "source": [
    "time = data.variables['time']\n",
    "dtime = nc.num2date(time[:],time.units)"
   ]
  },
  {
   "cell_type": "markdown",
   "metadata": {},
   "source": [
    "## Import fixed LBC data"
   ]
  },
  {
   "cell_type": "code",
   "execution_count": 12,
   "metadata": {},
   "outputs": [],
   "source": [
    "data_lbc = nc.Dataset('/shared/netscratch/ptg21/UM_data/xgywn/xgywn_pm7-9.nc')\n",
    "#extract variables to arrays\n",
    "ch4_lbc = data_lbc.variables['field34009'][:]*28/16.*1e9 #ppb\n",
    "lat_lbc = data_lbc.variables['latitude'][:]\n",
    "lon_lbc = data_lbc.variables['longitude'][:]\n",
    "#box_no_lbc = data_lbc.variables['model_level_number'][:]\n",
    "#alt_lbc = data_lbc.variables['hybrid_ht'][:]\n",
    "#mass_lbc = data_lbc.variables['field34363'][:]\n",
    "press_lbc = data_lbc.variables['p']\n",
    "trop_press_lbc = data_lbc.variables['p_3']\n",
    "\n",
    "time_lbc = data_lbc.variables['t']\n",
    "dtime_lbc = nc.num2date(time_lbc[:],time_lbc.units)\n",
    "\n",
    "ch4_lbc, lon_lbc = shiftgrid(180.,ch4_lbc,lon_lbc,start=False)"
   ]
  },
  {
   "cell_type": "markdown",
   "metadata": {},
   "source": [
    "## Make tropospheric mask"
   ]
  },
  {
   "cell_type": "code",
   "execution_count": 33,
   "metadata": {},
   "outputs": [],
   "source": [
    "trop_mask_xg = MA.masked_where(press_lbc < trop_press_lbc[:], press_lbc)"
   ]
  },
  {
   "cell_type": "code",
   "execution_count": 28,
   "metadata": {},
   "outputs": [],
   "source": [
    "trop_mask_xl = MA.masked_where(press_xl < trop_press_xl[:][:,None,:,:], press_xl) #add extra dimension\n",
    "#print(press_lbc)"
   ]
  },
  {
   "cell_type": "code",
   "execution_count": 31,
   "metadata": {},
   "outputs": [],
   "source": [
    "#apply trop masks to methane data\n",
    "ch4_trop_xg = MA.masked_where(trop_mask_xg.mask,ch4_lbc)\n",
    "ch4_trop_xl = MA.masked_where(trop_mask_xl.mask,ch4)"
   ]
  },
  {
   "cell_type": "code",
   "execution_count": 30,
   "metadata": {},
   "outputs": [
    {
     "data": {
      "text/plain": [
       "<matplotlib.colorbar.Colorbar at 0x7f6d45d06128>"
      ]
     },
     "execution_count": 30,
     "metadata": {},
     "output_type": "execute_result"
    },
    {
     "data": {
      "image/png": "[encoded data removed]",
      "text/plain": [
       "<Figure size 432x288 with 2 Axes>"
      ]
     },
     "metadata": {
      "needs_background": "light"
     },
     "output_type": "display_data"
    }
   ],
   "source": [
    "plt.pcolormesh(np.mean(ch4_trop_xg, axis=(0,3)))\n",
    "#average over axes 0:time and 3:longitude to get zonal mean\n",
    "plt.colorbar()"
   ]
  },
  {
   "cell_type": "code",
   "execution_count": 32,
   "metadata": {},
   "outputs": [
    {
     "data": {
      "text/plain": [
       "<matplotlib.colorbar.Colorbar at 0x7f6d4641bef0>"
      ]
     },
     "execution_count": 32,
     "metadata": {},
     "output_type": "execute_result"
    },
    {
     "data": {
      "image/png": "[encoded data removed]",
      "text/plain": [
       "<Figure size 432x288 with 2 Axes>"
      ]
     },
     "metadata": {
      "needs_background": "light"
     },
     "output_type": "display_data"
    }
   ],
   "source": [
    "plt.pcolormesh(np.mean(ch4_trop_xl, axis=(0,3)))\n",
    "#average over axes 0:time and 3:longitude to get zonal mean\n",
    "plt.colorbar()"
   ]
  },
  {
   "cell_type": "markdown",
   "metadata": {},
   "source": [
    "## Hemispheric mean calc"
   ]
  },
  {
   "cell_type": "code",
   "execution_count": 44,
   "metadata": {},
   "outputs": [
    {
     "name": "stdout",
     "output_type": "stream",
     "text": [
      "(array([36]),)\n",
      "(array([36]),)\n"
     ]
    }
   ],
   "source": [
    "#find index of zero latitude\n",
    "lat_0_xl = np.where(lat == 0)\n",
    "print(lat_0_xl)\n",
    "\n",
    "lat_0_xg = np.where(lat_lbc == 0)\n",
    "print(lat_0_xg)"
   ]
  },
  {
   "cell_type": "markdown",
   "metadata": {},
   "source": [
    "### With emissions: xltln"
   ]
  },
  {
   "cell_type": "code",
   "execution_count": 56,
   "metadata": {},
   "outputs": [
    {
     "name": "stdout",
     "output_type": "stream",
     "text": [
      "SH average: 1664 ppbv\n",
      "NH average: 1743 ppbv\n",
      "\n",
      "Interhemispheric gradient: 79 ppbv\n"
     ]
    }
   ],
   "source": [
    "mean_ch4_xl_SH = np.int(np.mean(ch4_trop_xl[:,:,:36,:],axis=(0,1,2,3)))\n",
    "print(f'SH average: {mean_ch4_xl_SH} ppbv')\n",
    "\n",
    "mean_ch4_xl_NH = np.int(np.mean(ch4_trop_xl[:,:,36:,:],axis=(0,1,2,3)))\n",
    "print(f'NH average: {mean_ch4_xl_NH} ppbv')\n",
    "print()\n",
    "print(f'Interhemispheric gradient: {mean_ch4_xl_NH - mean_ch4_xl_SH} ppbv')"
   ]
  },
  {
   "cell_type": "markdown",
   "metadata": {},
   "source": [
    "### Fixed LBC: xgywn"
   ]
  },
  {
   "cell_type": "code",
   "execution_count": 59,
   "metadata": {},
   "outputs": [
    {
     "name": "stdout",
     "output_type": "stream",
     "text": [
      "SH average: 1692 ppbv\n",
      "NH average: 1689 ppbv\n",
      "\n",
      "Interhemispheric gradient: -3 ppbv\n"
     ]
    }
   ],
   "source": [
    "mean_ch4_xg_SH = np.int(np.mean(ch4_trop_xg[:,:,:36,:],axis=(0,1,2,3)))\n",
    "print(f'SH average: {mean_ch4_xg_SH} ppbv')\n",
    "\n",
    "mean_ch4_xg_NH = np.int(np.mean(ch4_trop_xg[:,:,36:,:],axis=(0,1,2,3)))\n",
    "print(f'NH average: {mean_ch4_xg_NH} ppbv')\n",
    "print()\n",
    "print(f'Interhemispheric gradient: {mean_ch4_xg_NH - mean_ch4_xg_SH} ppbv')"
   ]
  }
 ],
 "metadata": {
  "kernelspec": {
   "display_name": "Python 3",
   "language": "python",
   "name": "python3"
  },
  "language_info": {
   "codemirror_mode": {
    "name": "ipython",
    "version": 3
   },
   "file_extension": ".py",
   "mimetype": "text/x-python",
   "name": "python",
   "nbconvert_exporter": "python",
   "pygments_lexer": "ipython3",
   "version": "3.7.3"
  }
 },
 "nbformat": 4,
 "nbformat_minor": 2
}
