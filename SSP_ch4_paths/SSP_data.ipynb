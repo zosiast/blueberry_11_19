{
 "cells": [
  {
   "cell_type": "code",
   "execution_count": 2,
   "metadata": {},
   "outputs": [],
   "source": [
    "import pandas as pd"
   ]
  },
  {
   "cell_type": "code",
   "execution_count": 20,
   "metadata": {},
   "outputs": [],
   "source": [
    "ssp_ch4 = pd.read_excel(r'/home/znjs2/Downloads/RCP_CH4_concs.xlsx', sheet_name='SSPs', index_col=0)\n",
    "ssp_ch4.columns = ['SSP__1','SSP_2','SSP_3','SSP_4','SSP_5']"
   ]
  },
  {
   "cell_type": "code",
   "execution_count": 21,
   "metadata": {},
   "outputs": [
    {
     "name": "stdout",
     "output_type": "stream",
     "text": [
      "        SSP__1     SSP_2     SSP_3     SSP_4     SSP_5\n",
      "2005  1753.160  1753.160  1753.160  1753.160  1753.160\n",
      "2010  1812.864  1812.864  1812.864  1812.864  1812.864\n",
      "2020  1888.198  1898.442  1958.352  1945.321  1927.944\n",
      "2030  1919.771  1951.761  2136.883  2117.301  2077.052\n",
      "2040  1935.294  1995.014  2314.385  2304.988  2305.153\n",
      "2050  1915.280  2022.441  2478.770  2451.961  2565.794\n",
      "2060  1864.652  2046.626  2634.316  2554.269  2748.008\n",
      "2070  1797.688  2070.316  2785.519  2632.626  2821.259\n",
      "2080  1708.398  2081.128  2936.525  2671.109  2807.665\n",
      "2090  1610.532  2076.744  3087.259  2675.739  2721.972\n",
      "2100  1526.825  2053.971  3238.033  2668.365  2598.510\n"
     ]
    }
   ],
   "source": [
    "print(ssp_ch4)"
   ]
  },
  {
   "cell_type": "code",
   "execution_count": 16,
   "metadata": {},
   "outputs": [],
   "source": [
    "pd.DataFrame.to_csv(ssp_ch4,r'/shared/netscratch/znjs2/SSP_RCP_ch4/ssp_paths.csv')"
   ]
  },
  {
   "cell_type": "code",
   "execution_count": 17,
   "metadata": {},
   "outputs": [],
   "source": [
    "rcp_ch4 = pd.read_excel(r'/home/znjs2/Downloads/RCP_CH4_concs.xlsx', sheet_name='RCPs', index_col=0)"
   ]
  },
  {
   "cell_type": "code",
   "execution_count": 18,
   "metadata": {},
   "outputs": [
    {
     "name": "stdout",
     "output_type": "stream",
     "text": [
      "       RCP 2.6   RCP 4.5   RCP 6.0   RCP 8.5\n",
      "2000  1751.023  1751.023  1751.023  1751.023\n",
      "2005  1753.735  1753.735  1753.735  1753.735\n",
      "2010  1773.128  1767.098  1768.688  1778.675\n",
      "2020  1730.518  1801.434  1785.791  1923.671\n",
      "2030  1600.215  1829.908  1795.924  2132.014\n",
      "2040  1527.098  1841.803  1840.651  2399.245\n",
      "2050  1451.540  1833.094  1894.850  2739.985\n",
      "2060  1365.106  1800.511  1939.391  3076.135\n",
      "2070  1310.651  1744.739  1961.826  3322.341\n",
      "2080  1285.405  1671.829  1940.166  3489.839\n",
      "2090  1268.282  1613.554  1819.142  3638.592\n",
      "2100  1253.628  1576.346  1649.396  3750.685\n"
     ]
    }
   ],
   "source": [
    "print(rcp_ch4)"
   ]
  },
  {
   "cell_type": "code",
   "execution_count": 19,
   "metadata": {},
   "outputs": [],
   "source": [
    "pd.DataFrame.to_csv(rcp_ch4,r'/shared/netscratch/znjs2/SSP_RCP_ch4/rcp_paths.csv')"
   ]
  },
  {
   "cell_type": "code",
   "execution_count": null,
   "metadata": {},
   "outputs": [],
   "source": []
  }
 ],
 "metadata": {
  "kernelspec": {
   "display_name": "Python 3",
   "language": "python",
   "name": "python3"
  },
  "language_info": {
   "codemirror_mode": {
    "name": "ipython",
    "version": 3
   },
   "file_extension": ".py",
   "mimetype": "text/x-python",
   "name": "python",
   "nbconvert_exporter": "python",
   "pygments_lexer": "ipython3",
   "version": "3.7.3"
  }
 },
 "nbformat": 4,
 "nbformat_minor": 2
}
