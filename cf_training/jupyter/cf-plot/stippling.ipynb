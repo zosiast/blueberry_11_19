{
 "cells": [
  {
   "cell_type": "code",
   "execution_count": null,
   "metadata": {
    "collapsed": true
   },
   "outputs": [],
   "source": [
    "# Stippling is a way of showing areas of significance on plots.\n",
    "# Different shapes, sizes and colours of stipple can be used to \n",
    "# indicate the strength of signifinace\n",
    "\n",
    "# Need to make a plot over another plot for stipple to work]"
   ]
  },
  {
   "cell_type": "code",
   "execution_count": null,
   "metadata": {
    "collapsed": true
   },
   "outputs": [],
   "source": [
    "# Plot images inline - not needed in Python\n",
    "%matplotlib inline"
   ]
  },
  {
   "cell_type": "code",
   "execution_count": null,
   "metadata": {
    "collapsed": false
   },
   "outputs": [],
   "source": [
    "# In this example we will do a test stipple in green dots between 220 and 260 K\n",
    "# and between 300 and 330K in blue squares\n",
    "import cf\n",
    "import cfplot as cfp\n",
    "\n",
    "f=cf.read('../ncas_data/data4.nc')[0]\n",
    "g=f.subspace(time=15)\n",
    "cfp.gopen()\n",
    "cfp.cscale('magma')\n",
    "cfp.con(g)\n",
    "cfp.stipple(f=g, min=220, max=260, size=100, color='#00ff00')\n",
    "cfp.stipple(f=g, min=300, max=330, size=50, color='#0000ff', marker='s')\n",
    "cfp.gclose()"
   ]
  },
  {
   "cell_type": "code",
   "execution_count": null,
   "metadata": {
    "collapsed": false
   },
   "outputs": [],
   "source": [
    "# Polar stipples\n",
    "\n",
    "f=cf.read('../ncas_data/data4.nc')[0]\n",
    "g=f.subspace(time=15)\n",
    "cfp.gopen()\n",
    "cfp.cscale('magma')\n",
    "cfp.mapset(proj='npstere')\n",
    "cfp.con(g)\n",
    "cfp.stipple(f=g, min=265, max=295, size=100, color='#00ff00')\n",
    "cfp.gclose()"
   ]
  },
  {
   "cell_type": "code",
   "execution_count": null,
   "metadata": {
    "collapsed": false
   },
   "outputs": [],
   "source": [
    "cfp.cscale()\n",
    "f=cf.read('../ncas_data/data1.nc')[7]\n",
    "f=f.collapse('mean','longitude')\n",
    "cfp.gopen()\n",
    "cfp.con(f)\n",
    "cfp.stipple(f=f, min=20, max=100, size=100, color='#00ff00')\n",
    "cfp.gclose()"
   ]
  },
  {
   "cell_type": "code",
   "execution_count": null,
   "metadata": {
    "collapsed": true
   },
   "outputs": [],
   "source": []
  }
 ],
 "metadata": {
  "anaconda-cloud": {},
  "kernelspec": {
   "display_name": "Python [conda root]",
   "language": "python",
   "name": "conda-root-py"
  },
  "language_info": {
   "codemirror_mode": {
    "name": "ipython",
    "version": 2
   },
   "file_extension": ".py",
   "mimetype": "text/x-python",
   "name": "python",
   "nbconvert_exporter": "python",
   "pygments_lexer": "ipython2",
   "version": "2.7.12"
  }
 },
 "nbformat": 4,
 "nbformat_minor": 0
}
