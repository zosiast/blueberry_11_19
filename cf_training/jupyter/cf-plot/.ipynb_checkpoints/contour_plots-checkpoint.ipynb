{
 "cells": [
  {
   "cell_type": "markdown",
   "metadata": {},
   "source": [
    "# Contour plots\n",
    "\n",
    "### A discussion on customising contour plots by selecting contour levels, plotting regions and colour scales.  The routines we will use are:\n",
    "\n",
    "### cfp.con - make a contour plot\n",
    "\n",
    "### cfp.levs - select contour levels\n",
    "\n",
    "### cfp.mapset - map setting\n",
    "\n",
    "### cfp.gset - plot region for all non-map plots\n",
    "\n",
    "### cfp.cscale - colour scales\n",
    "\n",
    "\n",
    "\n",
    "\n"
   ]
  },
  {
   "cell_type": "markdown",
   "metadata": {},
   "source": [
    "# cfp.con - make a contour plot\n",
    "\n",
    "### Some common contour and plot labeling options.\n"
   ]
  },
  {
   "cell_type": "code",
   "execution_count": null,
   "metadata": {
    "collapsed": false
   },
   "outputs": [],
   "source": [
    "# Plot images inline - not needed in Python\n",
    "%matplotlib inline\n",
    "\n",
    "# Import packages\n",
    "import cf\n",
    "import cfplot as cfp"
   ]
  },
  {
   "cell_type": "code",
   "execution_count": null,
   "metadata": {
    "collapsed": false
   },
   "outputs": [],
   "source": [
    "# Read in some data and look at the data limits\n",
    "f=cf.read('ncas_data/data1.nc')[7]\n",
    "print f"
   ]
  },
  {
   "cell_type": "code",
   "execution_count": null,
   "metadata": {
    "collapsed": false
   },
   "outputs": [],
   "source": [
    "# Make a contour plot of the zonal mean of this data\n",
    "cfp.con(f.collapse('mean','longitude'))"
   ]
  },
  {
   "cell_type": "code",
   "execution_count": null,
   "metadata": {
    "collapsed": false
   },
   "outputs": [],
   "source": [
    "# A blockfill plot is used to show the actual limits of the data \n",
    "cfp.con(f.collapse('mean','longitude'), blockfill=True, lines=False)"
   ]
  },
  {
   "cell_type": "code",
   "execution_count": null,
   "metadata": {
    "collapsed": false
   },
   "outputs": [],
   "source": [
    "# We can thicken the zero contour line with the zero_thick parameter\n",
    "cfp.con(f.collapse('mean','longitude'), blockfill=True, zero_thick=3.0)"
   ]
  },
  {
   "cell_type": "code",
   "execution_count": null,
   "metadata": {
    "collapsed": false
   },
   "outputs": [],
   "source": [
    "# Labeling plots with different tick marks and axis labels\n",
    "xticks=[-60,0, 60]\n",
    "xticklabels=['south', 'equator', 'north']\n",
    "yticks=[1000, 600, 100]\n",
    "yticklabels=['low', 'medium', 'high']\n",
    "\n",
    "cfp.con(f.collapse('mean','longitude'),\\\n",
    "        xticks=xticks, xticklabels=xticklabels,\n",
    "        yticks=yticks, yticklabels=yticklabels,\n",
    "        xlabel='x-axis', ylabel='y-axis')"
   ]
  },
  {
   "cell_type": "markdown",
   "metadata": {},
   "source": [
    "# cfp.levs - make custom contour levels"
   ]
  },
  {
   "cell_type": "code",
   "execution_count": null,
   "metadata": {
    "collapsed": false
   },
   "outputs": [],
   "source": [
    "# cfp.levs takes a min, max, step to generate a set of levels\n",
    "cfp.levs(min=-30, max=30, step=5)\n",
    "#\n",
    "# We can see the levels generated as they are store in a Python variable\n",
    "print cfp.plotvars.levels"
   ]
  },
  {
   "cell_type": "code",
   "execution_count": null,
   "metadata": {
    "collapsed": false
   },
   "outputs": [],
   "source": [
    "# The min, max step are in positional order so we could have used\n",
    "cfp.levs(-30, 30, 5)\n",
    "print cfp.plotvars.levels"
   ]
  },
  {
   "cell_type": "code",
   "execution_count": null,
   "metadata": {
    "collapsed": false
   },
   "outputs": [],
   "source": [
    "# We can use a floating point values as well\n",
    "cfp.levs(6, 12, 0.2)\n",
    "print cfp.plotvars.levels"
   ]
  },
  {
   "cell_type": "code",
   "execution_count": null,
   "metadata": {
    "collapsed": false
   },
   "outputs": [],
   "source": [
    "# We can set our own values as needed with the manual keyword.\n",
    "# Note: values need to be in ascending order.\n",
    "cfp.levs(manual=[-30, -20, -10, -5, -1, 1, 5, 10, 20, 30])\n",
    "print cfp.plotvars.levels"
   ]
  },
  {
   "cell_type": "code",
   "execution_count": null,
   "metadata": {
    "collapsed": true
   },
   "outputs": [],
   "source": [
    "# A further parameter called extend selects the behaviour of the colorbar extension \n",
    "# This is the triangle on the end of the colorbar to indicate that all values above\n",
    "# or below the end labelled value are coloured in with this colour.\n",
    "\n",
    "# extend takes the values ’neither’, ‘both’, ‘min’, or ‘max’ with 'both' being the default.\n",
    "\n"
   ]
  },
  {
   "cell_type": "code",
   "execution_count": null,
   "metadata": {
    "collapsed": false
   },
   "outputs": [],
   "source": [
    "# cfp.levs parameters are persistent so you don't have to set them before each contour plot\n",
    "# To reset the contour levels to the default call levs with no parameters\n",
    "cfp.levs()\n",
    "print cfp.plotvars.levels"
   ]
  },
  {
   "cell_type": "markdown",
   "metadata": {},
   "source": [
    "# cfp.mapset - Setting the map\n",
    "\n"
   ]
  },
  {
   "cell_type": "code",
   "execution_count": null,
   "metadata": {
    "collapsed": false
   },
   "outputs": [],
   "source": [
    "# cfp.mapset defaults to the cylindrical projection \n",
    "# The default is -180 to 180 in longitude and -90 to 90 in latitude\n",
    "f=cf.read('ncas_data/data1.nc')[7]\n",
    "cfp.con(f.subspace(pressure=500))"
   ]
  },
  {
   "cell_type": "code",
   "execution_count": null,
   "metadata": {
    "collapsed": false
   },
   "outputs": [],
   "source": [
    "#cfp.mapset takes four positional values for the default cylindrical projection \n",
    "cfp.mapset(lonmin=-90, lonmax=90, latmin=-30, latmax=30)\n",
    "\n",
    "# This can be simplified to\n",
    "cfp.mapset(-90, 90, -30, 30)\n",
    "cfp.con(f.subspace(pressure=500))\n"
   ]
  },
  {
   "cell_type": "code",
   "execution_count": null,
   "metadata": {
    "collapsed": false
   },
   "outputs": [],
   "source": [
    "# To use the polar stereographic projection use proj='npstere' or proj='spstere' parameters\n",
    "cfp.mapset(proj='npstere')\n",
    "cfp.con(f.subspace(pressure=500))\n"
   ]
  },
  {
   "cell_type": "code",
   "execution_count": null,
   "metadata": {
    "collapsed": false
   },
   "outputs": [],
   "source": [
    "# Additional parameters the the polar stereographic plots are\n",
    "# boundinglat - set the edge of the viewable latitudes\n",
    "# lon_0 - centre of desired map domain\n",
    "\n",
    "# So to look at Antarctica \n",
    "cfp.mapset(proj='spstere', boundinglat=-60, lon_0=180)\n",
    "cfp.con(f.subspace(pressure=500))\n"
   ]
  },
  {
   "cell_type": "code",
   "execution_count": null,
   "metadata": {
    "collapsed": true
   },
   "outputs": [],
   "source": [
    "# As with contour levels, mapping is persistent between plots.\n",
    "# To reset to the default pass no parameters to cfp.mapset\n",
    "cfp.mapset()"
   ]
  },
  {
   "cell_type": "code",
   "execution_count": null,
   "metadata": {
    "collapsed": true
   },
   "outputs": [],
   "source": [
    "# Other projections available include:\n",
    "# Lambert Conformal, Mercator, Mollweide, Orthographic and Robinson projections. \n",
    "# See the Basemap documentation at http://matplotlib.org/basemap/users/mapsetup.html for calling parameters.\n",
    "\n",
    "\n",
    "\n"
   ]
  },
  {
   "cell_type": "markdown",
   "metadata": {},
   "source": [
    "# cfp.gset - Setting the plotting region for non-map plots\n",
    "\n"
   ]
  },
  {
   "cell_type": "code",
   "execution_count": null,
   "metadata": {
    "collapsed": false
   },
   "outputs": [],
   "source": [
    "cfp.f=cf.read('ncas_data/data1.nc')[7]\n",
    "cfp.con(f.collapse('mean','longitude'))"
   ]
  },
  {
   "cell_type": "code",
   "execution_count": null,
   "metadata": {
    "collapsed": false
   },
   "outputs": [],
   "source": [
    "cfp.gset(xmin=0, xmax=90, ymin=500, ymax=0)\n",
    "# or\n",
    "cfp.gset(0, 90, 500, 0)\n",
    "cfp.con(f.collapse('mean','longitude'))"
   ]
  },
  {
   "cell_type": "code",
   "execution_count": null,
   "metadata": {
    "collapsed": false
   },
   "outputs": [],
   "source": [
    "# gset also takes the xlog and ylog keywords\n",
    "# Log axes cannot span or include zero in them\n",
    "cfp.gset(-90, 90, 1000, 1, ylog=True)\n",
    "cfp.con(f.collapse('mean','longitude'))"
   ]
  },
  {
   "cell_type": "code",
   "execution_count": null,
   "metadata": {
    "collapsed": true
   },
   "outputs": [],
   "source": [
    "# To reset to the defaults call gset with no parameters\n",
    "cfp.gset()\n",
    "\n",
    "\n",
    "\n"
   ]
  },
  {
   "cell_type": "markdown",
   "metadata": {},
   "source": [
    "# cfp.cscale - Colour scales\n",
    "\n"
   ]
  },
  {
   "cell_type": "markdown",
   "metadata": {},
   "source": [
    "A colour scale is automatically selected based on the data:\n",
    "\n",
    "**'scale1'**  - blue-red - divergent colour scale\n",
    "contour levels which include zero in the levels  \n",
    "e.g. zonal wind\n",
    "\n",
    "**'viridis'** - blue-green-yellow - perceptually uniform colour scale\n",
    "contour levels without a zero value in the levels\n",
    "e.g. temperature in Kelvin\n",
    "\n",
    "See End of the rainbow http://www.climate-lab-book.ac.uk/2014/end-of-the-rainbow for a good discussion on colour scale selection.\n",
    "\n",
    "Around 140 colour scales are available in cf-plot - http://ajheaps.github.io/cf-plot/colour_scales.html\n",
    "It is also very easy to add your own colour scale\n",
    "\n",
    "- **ncols** - number of colours\n",
    "- **above** - number of colours above the midpoint of the original scale\n",
    "- **below** - number of colours below the midpoint of the original scale\n",
    "- **white** - change these colour indicies to be white\n",
    "- **reverse** - reverse the colour scale\n",
    "- **uniform** - make the colour scale uniform for different numbers\n",
    "of below and above colours\n",
    "\n",
    "\n",
    "Once you change the colour scale you have full control of the colours but care is required to match the contour levels and colours to your data. \n",
    "\n",
    "\n",
    "\n"
   ]
  },
  {
   "cell_type": "code",
   "execution_count": null,
   "metadata": {
    "collapsed": false
   },
   "outputs": [],
   "source": [
    "# contour plot of the zonal mean temperature in Celsius\n",
    "f=cf.read('ncas_data/data1.nc')[2]\n",
    "f.Units -= 273.15\n",
    "cfp.con(f.collapse('mean','longitude'))"
   ]
  },
  {
   "cell_type": "code",
   "execution_count": null,
   "metadata": {
    "collapsed": false
   },
   "outputs": [],
   "source": [
    "# Change levels and colour scale\n",
    "# The red-blue division isn't around zero as we would expect it to be\n",
    "cfp.levs(-80, 20, 10)\n",
    "cfp.cscale('scale16', ncols=12)\n",
    "cfp.con(f.collapse('mean','longitude'))"
   ]
  },
  {
   "cell_type": "code",
   "execution_count": null,
   "metadata": {
    "collapsed": false
   },
   "outputs": [],
   "source": [
    "# Select the correct colours for above and below zero\n",
    "cfp.cscale('scale16', below=9, above=3)\n",
    "cfp.con(f.collapse('mean','longitude'))"
   ]
  },
  {
   "cell_type": "code",
   "execution_count": null,
   "metadata": {
    "collapsed": false
   },
   "outputs": [],
   "source": [
    "# Add the uniform keyword\n",
    "cfp.cscale('scale16', below=9, above=3, uniform=True)\n",
    "cfp.con(f.collapse('mean','longitude'))"
   ]
  },
  {
   "cell_type": "code",
   "execution_count": null,
   "metadata": {
    "collapsed": false
   },
   "outputs": [],
   "source": [
    "# Reverse the colour scale - intuitively this looks better\n",
    "# Care is needed when selecting an appropriate colour scale\n",
    "cfp.cscale('scale16', below=9, above=3, uniform=True, reverse=True)\n",
    "cfp.con(f.collapse('mean','longitude'))"
   ]
  },
  {
   "cell_type": "code",
   "execution_count": null,
   "metadata": {
    "collapsed": false
   },
   "outputs": [],
   "source": [
    "# Setting your own colour scale\n",
    "# Colour scales are defined as red green and blue values for each colour.  The intensities \n",
    "# range from 0 to 255 and have one defined colour per line\n",
    "# Red would be 255 0 0\n",
    "# Blue would be 0 0 255\n",
    "\n",
    "# We will make a green-red colour scale by saving values to a file and then loading them into the \n",
    "# cscale routine.\n",
    "with open('myscale.rgb', 'w') as file:\n",
    "    file.write('51 0 102\\n')\n",
    "    file.write('229 204 255\\n')\n",
    "    file.write('255 204 204\\n')\n",
    "    file.write('102 0 0\\n')\n",
    "\n",
    "               \n",
    "# Load and use new colour scale\n",
    "cfp.levs(-80, 20, 10)\n",
    "cfp.cscale('myscale.rgb', below=9, above=3, uniform=True)\n",
    "cfp.con(f.collapse('mean','longitude'))\n",
    "\n",
    "\n",
    "\n"
   ]
  },
  {
   "cell_type": "markdown",
   "metadata": {
    "collapsed": true
   },
   "source": [
    "# Plotting data from arrays\n",
    "## cf-plot plotting routines will accept data from arrays for plotting\n",
    "## Here we make a map plot using numpy arrays"
   ]
  },
  {
   "cell_type": "code",
   "execution_count": null,
   "metadata": {
    "collapsed": false
   },
   "outputs": [],
   "source": [
    "cfp.reset()\n",
    "\n",
    "\n",
    "from netCDF4 import Dataset as ncfile\n",
    "import numpy as np\n",
    "nc = ncfile('../ncas_data/data4.nc')\n",
    "lons = nc.variables['lon'][:]\n",
    "lats = nc.variables['lat'][:]\n",
    "temp = nc.variables['tas'][0,:,:]\n",
    "\n",
    "print 'x shape', np.shape(lons)\n",
    "print 'y shape', np.shape(lats)\n",
    "print 'field shape', np.shape(temp)"
   ]
  },
  {
   "cell_type": "code",
   "execution_count": null,
   "metadata": {
    "collapsed": false
   },
   "outputs": [],
   "source": [
    "# Make a contour plot\n",
    "cfp.con(f=temp, x=lons, y=lats)"
   ]
  },
  {
   "cell_type": "code",
   "execution_count": null,
   "metadata": {
    "collapsed": false
   },
   "outputs": [],
   "source": [
    "# We have passed data arrays to cf-plot and the package has no way of knowing that the data is a map plot\n",
    "# We can indicate this with the ptype parameter\n",
    "# ptype=1 - longitude - latitude plot\n",
    "# ptype=2 - latitude - height plot\n",
    "# ptype=3 - longitude – height plot\n",
    "# ptype=4 - longitude - time plot\n",
    "# ptype=5 - latitude - time plot\n",
    "# ptype=6 - rotated pole plot\n",
    "# ptype=7 - time - height plot\n",
    "\n",
    "cfp.con(f=temp, x=lons, y=lats, ptype=1)"
   ]
  },
  {
   "cell_type": "code",
   "execution_count": null,
   "metadata": {
    "collapsed": true
   },
   "outputs": [],
   "source": []
  }
 ],
 "metadata": {
  "anaconda-cloud": {},
  "kernelspec": {
   "display_name": "Python [conda root]",
   "language": "python",
   "name": "conda-root-py"
  },
  "language_info": {
   "codemirror_mode": {
    "name": "ipython",
    "version": 2
   },
   "file_extension": ".py",
   "mimetype": "text/x-python",
   "name": "python",
   "nbconvert_exporter": "python",
   "pygments_lexer": "ipython2",
   "version": "2.7.12"
  }
 },
 "nbformat": 4,
 "nbformat_minor": 0
}
