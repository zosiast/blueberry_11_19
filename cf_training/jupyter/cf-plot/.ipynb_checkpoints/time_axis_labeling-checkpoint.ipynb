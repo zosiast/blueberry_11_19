{
 "cells": [
  {
   "cell_type": "code",
   "execution_count": 1,
   "metadata": {
    "collapsed": false
   },
   "outputs": [],
   "source": [
    "# The default time axis labelling in cf-plot might not be acceptable on some\n",
    "# occasions and here is some information on using cf-python to extract values\n",
    "# for yourself so that they can be presented to cf-plot as tick positions and\n",
    "# tick labels.\n",
    "\n",
    "import cf, numpy as np\n",
    "f=cf.read('../ncas_data/data4.nc')[0]\n"
   ]
  },
  {
   "cell_type": "code",
   "execution_count": 2,
   "metadata": {
    "collapsed": false
   },
   "outputs": [
    {
     "name": "stdout",
     "output_type": "stream",
     "text": [
      "date time array\n",
      "[<CF Datetime: 1860-01-16T00:00:00Z 360_day>\n",
      " <CF Datetime: 1860-02-16T00:00:00Z 360_day>\n",
      " <CF Datetime: 1860-03-16T00:00:00Z 360_day> ...,\n",
      " <CF Datetime: 1999-10-16T00:00:00Z 360_day>\n",
      " <CF Datetime: 1999-11-16T00:00:00Z 360_day>\n",
      " <CF Datetime: 1999-12-16T00:00:00Z 360_day>]\n",
      "\n",
      "numeric times\n",
      "[  1.50000000e+01   4.50000000e+01   7.50000000e+01 ...,   5.03250000e+04\n",
      "   5.03550000e+04   5.03850000e+04]\n"
     ]
    }
   ],
   "source": [
    "times=f.item('T')\n",
    "\n",
    "# The time strings are stored in dtarray and the time values in array:\n",
    "print 'date time array\\n', times.dtarray\n",
    "print ''\n",
    "print 'numeric times\\n', times.array\n",
    "\n"
   ]
  },
  {
   "cell_type": "code",
   "execution_count": 3,
   "metadata": {
    "collapsed": false
   },
   "outputs": [
    {
     "name": "stdout",
     "output_type": "stream",
     "text": [
      "years\n",
      "[1860 1860 1860 ..., 1999 1999 1999]\n",
      "months\n",
      "[ 1  2  3 ..., 10 11 12]\n"
     ]
    }
   ],
   "source": [
    "# Likewise the years and months are in year.array and month.array:\n",
    "print 'years\\n', times.year.array\n",
    "print 'months\\n', times.month.array\n"
   ]
  },
  {
   "cell_type": "code",
   "execution_count": 9,
   "metadata": {
    "collapsed": false
   },
   "outputs": [
    {
     "name": "stdout",
     "output_type": "stream",
     "text": [
      "43200.0\n"
     ]
    }
   ],
   "source": [
    "# To find the time value for to the tick position for January 1st 1980 00:00hrs:\n",
    "print cf.Data(cf.dt('1980-01-01 00:00:00'), units=times.Units).datum()\n"
   ]
  },
  {
   "cell_type": "code",
   "execution_count": 10,
   "metadata": {
    "collapsed": false
   },
   "outputs": [
    {
     "name": "stdout",
     "output_type": "stream",
     "text": [
      "time_labels are\n",
      "['1980', '1990', '2000']\n",
      "\n",
      "time_ticks are \n",
      "[43200.0, 46800.0, 50400.0]\n"
     ]
    }
   ],
   "source": [
    "# To generate the tick mark positions and labels for the start of 1980, 1990 and 2000:\n",
    "\n",
    "time_labels = ['1980','1990', '2000']\n",
    "time_ticks = [cf.Data(cf.dt('1980-01-01 00:00:00'), units=times.Units).datum(),\n",
    "              cf.Data(cf.dt('1990-01-01 00:00:00'), units=times.Units).datum(),\n",
    "              cf.Data(cf.dt('2000-01-01 00:00:00'), units=times.Units).datum()]\n",
    "\n",
    "print 'time_labels are\\n', time_labels\n",
    "print '\\ntime_ticks are \\n', time_ticks"
   ]
  },
  {
   "cell_type": "code",
   "execution_count": null,
   "metadata": {
    "collapsed": true
   },
   "outputs": [],
   "source": []
  }
 ],
 "metadata": {
  "anaconda-cloud": {},
  "kernelspec": {
   "display_name": "Python [conda root]",
   "language": "python",
   "name": "conda-root-py"
  },
  "language_info": {
   "codemirror_mode": {
    "name": "ipython",
    "version": 2
   },
   "file_extension": ".py",
   "mimetype": "text/x-python",
   "name": "python",
   "nbconvert_exporter": "python",
   "pygments_lexer": "ipython2",
   "version": "2.7.12"
  }
 },
 "nbformat": 4,
 "nbformat_minor": 0
}
