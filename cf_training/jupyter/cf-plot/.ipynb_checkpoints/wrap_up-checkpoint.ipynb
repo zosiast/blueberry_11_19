{
 "cells": [
  {
   "cell_type": "markdown",
   "metadata": {},
   "source": [
    "# Wrap up"
   ]
  },
  {
   "cell_type": "markdown",
   "metadata": {},
   "source": [
    "## Other Python packages you might be interested in:\n",
    "\n",
    "\n",
    "## CIS - Community Intercomparison suite\n",
    "\n",
    "## Iris - Met Office Python library for Meteorology and Climatology\n",
    "\n",
    "## matplotlib - Python plotting package\n",
    "\n",
    "## numpy - the fundamental package for scientific computing with Python\n",
    "\n",
    "## Pandas -  makes working with “relational” or “labeled” data both easy and intuitive\n",
    "\n",
    "## scipy -  user-friendly and efficient numerical routines \n",
    "\n",
    "\n",
    "\n",
    "\n",
    "\n",
    "\n",
    "\n",
    "\n"
   ]
  },
  {
   "cell_type": "markdown",
   "metadata": {},
   "source": [
    "# Feedback form will be emailed around tomorrow\n",
    "\n",
    "## Please fill it in so we know how to improve\n",
    "\n",
    "\n",
    "\n",
    "\n",
    "\n",
    "\n",
    "\n",
    "\n",
    "\n",
    "\n",
    "\n"
   ]
  },
  {
   "cell_type": "code",
   "execution_count": null,
   "metadata": {
    "collapsed": true
   },
   "outputs": [],
   "source": [
    "\n",
    "\n",
    "\n",
    "\n",
    "\n",
    "\n",
    "\n",
    "\n",
    "\n"
   ]
  },
  {
   "cell_type": "markdown",
   "metadata": {},
   "source": [
    "# Using cf-python and cf-plot\n",
    "\n",
    "## On jasmin1 - jasmin6 - setup anaconda\n",
    "\n",
    "## On the Met cluster:\n",
    "## export PATH=/opt/tools/ncas/anaconda2/bin:$PATH\n",
    "\n",
    "## IT are working on a new Canopy Python wthat will have the new versions \n",
    "## of cf-python and cf-plot\n",
    "\n",
    "## On a Linux laptop: \n",
    "## Download and install Anaconda Python 2.7 for Linux. On the command line type:\n",
    "## conda install -c ncas -c scitools cf-python cf-plot\n",
    "## conda install -c conda-forge -c nesii netcdf-fortran=4.4.4 mpich esmpy\n",
    "\n",
    "\n",
    "\n",
    "## On jasmin@ceda and Archer - email us for details."
   ]
  },
  {
   "cell_type": "markdown",
   "metadata": {},
   "source": [
    "# Any questions to:\n",
    "\n",
    "# cf-python: David Hassell d.c.hassell@reading.ac.uk\n",
    "\n",
    "# regridding: Charles Roberts c.j.roberts@reading.ac.uk\n",
    "\n",
    "# cf-plot: Andy Heaps andy.heaps@ncas.ac.uk"
   ]
  },
  {
   "cell_type": "code",
   "execution_count": null,
   "metadata": {
    "collapsed": true
   },
   "outputs": [],
   "source": []
  }
 ],
 "metadata": {
  "kernelspec": {
   "display_name": "Python [conda root]",
   "language": "python",
   "name": "conda-root-py"
  },
  "language_info": {
   "codemirror_mode": {
    "name": "ipython",
    "version": 2
   },
   "file_extension": ".py",
   "mimetype": "text/x-python",
   "name": "python",
   "nbconvert_exporter": "python",
   "pygments_lexer": "ipython2",
   "version": "2.7.12"
  }
 },
 "nbformat": 4,
 "nbformat_minor": 1
}
