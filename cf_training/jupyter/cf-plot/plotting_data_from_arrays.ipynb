{
 "cells": [
  {
   "cell_type": "code",
   "execution_count": null,
   "metadata": {
    "collapsed": true
   },
   "outputs": [],
   "source": [
    "# Plotting data from arrays\n",
    "## cf-plot will accept data from arrays for plotting"
   ]
  },
  {
   "cell_type": "code",
   "execution_count": null,
   "metadata": {
    "collapsed": true
   },
   "outputs": [],
   "source": [
    "# Inline images in Ipython Notebook - not needed in Python\n",
    "%matplotlib inline"
   ]
  },
  {
   "cell_type": "code",
   "execution_count": null,
   "metadata": {
    "collapsed": false
   },
   "outputs": [],
   "source": [
    "import cf\n",
    "import cfplot as cfp\n",
    "from netCDF4 import Dataset as ncfile\n",
    "import numpy as np\n",
    "nc = ncfile('../ncas_data/data4.nc')\n",
    "lons = nc.variables['lon'][:]\n",
    "lats = nc.variables['lat'][:]\n",
    "temp = nc.variables['tas'][0,:,:]\n",
    "\n",
    "print 'x shape', np.shape(lons)\n",
    "print 'y shape', np.shape(lats)\n",
    "print 'field shape', np.shape(temp)\n",
    "\n",
    "\n"
   ]
  },
  {
   "cell_type": "code",
   "execution_count": null,
   "metadata": {
    "collapsed": false
   },
   "outputs": [],
   "source": [
    "# Make a contour plot\n",
    "cfp.con(f=temp, x=lons, y=lats)"
   ]
  },
  {
   "cell_type": "code",
   "execution_count": null,
   "metadata": {
    "collapsed": false
   },
   "outputs": [],
   "source": [
    "# We have passed data arrays to cf-plot and the package has no way of knowing that the data is a map plot\n",
    "# We can indicate this with the ptype parameter\n",
    "# ptype=1 - longitude - latitude plot\n",
    "# ptype=2 - latitude - height plot\n",
    "# ptype=3 - longitude – height plot\n",
    "# ptype=4 - longitude - time plot\n",
    "# ptype=5 - latitude - time plot\n",
    "\n",
    "\n",
    "cfp.con(f=temp, x=lons, y=lats, ptype=1)"
   ]
  },
  {
   "cell_type": "code",
   "execution_count": null,
   "metadata": {
    "collapsed": true
   },
   "outputs": [],
   "source": []
  }
 ],
 "metadata": {
  "anaconda-cloud": {},
  "kernelspec": {
   "display_name": "Python [conda root]",
   "language": "python",
   "name": "conda-root-py"
  },
  "language_info": {
   "codemirror_mode": {
    "name": "ipython",
    "version": 2
   },
   "file_extension": ".py",
   "mimetype": "text/x-python",
   "name": "python",
   "nbconvert_exporter": "python",
   "pygments_lexer": "ipython2",
   "version": "2.7.12"
  }
 },
 "nbformat": 4,
 "nbformat_minor": 1
}
