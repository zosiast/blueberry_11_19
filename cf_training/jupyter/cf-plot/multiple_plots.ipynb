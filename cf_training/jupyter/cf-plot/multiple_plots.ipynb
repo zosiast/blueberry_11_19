{
 "cells": [
  {
   "cell_type": "markdown",
   "metadata": {},
   "source": [
    "# Multiple plots on a page and plot positioning \n",
    "\n",
    "# Examples of multiple plots on a page and plot positioning in cf-plot"
   ]
  },
  {
   "cell_type": "markdown",
   "metadata": {},
   "source": [
    "To make multiple plots on a page we use the commands:\n",
    "cfp.gopen - open a plot page\n",
    "cfp.gpos - position plots\n",
    "cfp.gclose - close a plot page\n",
    "\n",
    "cfp.gopen takes the following parameters:\n",
    "rows=1 - number of plot rows on the page\n",
    "columns=1 - number of plot columns on the page\n",
    "file='python.png' - default file name\n",
    "orientation='landscape' - orientation - also takes ‘portrait’\n",
    "\n",
    "For page size and margins use:\n",
    "figsize=[11.7, 8.3] - figure size in inches\n",
    "left=0.12 - left margin in normalised coordinates\n",
    "right=0.92 - right margin in normalised coordinates\n",
    "top=0.92 - top margin in normalised coordinates\n",
    "bottom=0.08 - bottom margin in normalised coordinates\n",
    "wspace=0.2 - width reserved for blank space between subplots\n",
    "hspace=0.2 - height reserved for white space between subplots\n",
    "\n",
    "cfp.gpos selects the position as for Matplotlib with position 1 being \n",
    "top left.  "
   ]
  },
  {
   "cell_type": "code",
   "execution_count": null,
   "metadata": {
    "collapsed": true
   },
   "outputs": [],
   "source": [
    "# Plot images inline - not needed in Python\n",
    "%matplotlib inline"
   ]
  },
  {
   "cell_type": "code",
   "execution_count": null,
   "metadata": {
    "collapsed": false
   },
   "outputs": [],
   "source": [
    "# Making overlaying plots\n",
    "# In this case we will make a vector plot overlaying a contour plot\n",
    "\n",
    "import cf\n",
    "import cfplot as cfp\n",
    "\n",
    "f=cf.read('../ncas_data/data1.nc')\n",
    "u=f[7].subspace(pressure=500)\n",
    "v=f[9].subspace(pressure=500)\n",
    "t=f[2].subspace(pressure=500)\n",
    "\n",
    "cfp.gopen()\n",
    "cfp.mapset(lonmin=10, lonmax=120, latmin=-30, latmax=30)\n",
    "cfp.levs(min=254, max=270, step=1)\n",
    "cfp.con(t)\n",
    "cfp.vect(u=u, v=v, key_length=10, scale=50, stride=2)\n",
    "cfp.gclose()"
   ]
  },
  {
   "cell_type": "code",
   "execution_count": null,
   "metadata": {
    "collapsed": true
   },
   "outputs": [],
   "source": [
    "# In this example we will make four plots on a page \n",
    "# Reset the levels and map region\n",
    "cfp.levs()\n",
    "cfp.mapset()"
   ]
  },
  {
   "cell_type": "code",
   "execution_count": null,
   "metadata": {
    "collapsed": false
   },
   "outputs": [],
   "source": [
    "import cf, cfplot as cfp\n",
    "f=cf.read('../ncas_data/data1.nc')[7]\n",
    "\n",
    "cfp.gopen(rows=2, columns=2)\n",
    "cfp.gpos(1)\n",
    "cfp.con(f.subspace(pressure=1000), title='1000mb')\n",
    "cfp.gpos(2)\n",
    "cfp.con(f.subspace(pressure=700), title='700mb')\n",
    "cfp.gpos(3)\n",
    "cfp.con(f.subspace(pressure=100), title='100mb')\n",
    "cfp.gpos(4)\n",
    "cfp.con(f.subspace(pressure=10), title='10mb')\n",
    "cfp.gclose()"
   ]
  },
  {
   "cell_type": "markdown",
   "metadata": {},
   "source": [
    "# cfp.gpos uses the default Matplotlib plot positioning on the page:\n",
    "# 1 2\n",
    "# 3 4"
   ]
  },
  {
   "cell_type": "code",
   "execution_count": null,
   "metadata": {
    "collapsed": false
   },
   "outputs": [],
   "source": [
    "f"
   ]
  },
  {
   "cell_type": "code",
   "execution_count": null,
   "metadata": {
    "collapsed": false
   },
   "outputs": [],
   "source": [
    "# We can select the same levels for all the plots and make a common colorbar as below\n",
    "\n",
    "cfp.levs(-20, 100, 10)\n",
    "cfp.gopen(rows=2, columns=2, bottom=0.2)\n",
    "cfp.gpos(1)\n",
    "cfp.con(f.subspace(pressure=1000), title='1000mb', colorbar=None)\n",
    "cfp.gpos(2)\n",
    "cfp.con(f.subspace(pressure=700), title='700mb', colorbar=None)\n",
    "cfp.gpos(3)\n",
    "cfp.con(f.subspace(pressure=100), title='100mb', colorbar=None)\n",
    "cfp.gpos(4)\n",
    "cfp.con(f.subspace(pressure=10), title='10mb', colorbar_position=[0.12, 0.1, 0.80, 0.02],\n",
    "        colorbar_orientation='horizontal')\n",
    "cfp.gclose()\n",
    "\n"
   ]
  },
  {
   "cell_type": "code",
   "execution_count": null,
   "metadata": {
    "collapsed": false
   },
   "outputs": [],
   "source": [
    "# We can turn off axis labeling as we have drawn continents and also reduce the space \n",
    "# inbetween the plots to make the final plot less cluttered.\n",
    "\n",
    "cfp.levs(-20, 100, 10)\n",
    "cfp.gopen(rows=2, columns=2, wspace=0.1, hspace=-0.3)\n",
    "cfp.gpos(1)\n",
    "cfp.con(f.subspace(pressure=1000), title='1000mb', colorbar=None, axes=None)\n",
    "cfp.gpos(2)\n",
    "cfp.con(f.subspace(pressure=700), title='700mb', colorbar=None, axes=None)\n",
    "cfp.gpos(3)\n",
    "cfp.con(f.subspace(pressure=100), title='100mb', colorbar=None, axes=None)\n",
    "cfp.gpos(4)\n",
    "cfp.con(f.subspace(pressure=10), title='10mb', colorbar_position=[0.12, 0.1, 0.80, 0.02],\n",
    "        colorbar_orientation='horizontal', axes=None)\n",
    "cfp.gclose()\n",
    "\n"
   ]
  },
  {
   "cell_type": "code",
   "execution_count": null,
   "metadata": {
    "collapsed": true
   },
   "outputs": [],
   "source": []
  }
 ],
 "metadata": {
  "anaconda-cloud": {},
  "kernelspec": {
   "display_name": "Python [conda root]",
   "language": "python",
   "name": "conda-root-py"
  },
  "language_info": {
   "codemirror_mode": {
    "name": "ipython",
    "version": 2
   },
   "file_extension": ".py",
   "mimetype": "text/x-python",
   "name": "python",
   "nbconvert_exporter": "python",
   "pygments_lexer": "ipython2",
   "version": "2.7.12"
  }
 },
 "nbformat": 4,
 "nbformat_minor": 0
}
