{
 "cells": [
  {
   "cell_type": "markdown",
   "metadata": {},
   "source": [
    "# Introduction - cf-python and cf-plot\n",
    "\n",
    "## The cf in cf-python and cf-plot are to indicate that they are underpined by CF - Climate and Forecast (CF) Metadata Conventions. http://cfconventions.org\n",
    "\n",
    "## cf-python - The python cf package implements the CF data model for the reading, writing and processing of data and metadata. https://cfpython.bitbucket.io\n",
    "\n",
    "## cf-plot - A set of Python routines for making the common contour, vector and line plots that climate researchers use. can also plot Numpy arrays of data. http://ajheaps.github.io/cf-plot\n",
    "            \n",
    "            "
   ]
  },
  {
   "cell_type": "markdown",
   "metadata": {},
   "source": [
    "# Read, select, write example"
   ]
  },
  {
   "cell_type": "code",
   "execution_count": null,
   "metadata": {
    "collapsed": true
   },
   "outputs": [],
   "source": [
    "# Inline images in Ipython Notebook - not needed in Python\n",
    "%matplotlib inline"
   ]
  },
  {
   "cell_type": "code",
   "execution_count": null,
   "metadata": {
    "collapsed": false
   },
   "outputs": [],
   "source": [
    "# Import cf-python and cf-plot\n",
    "import cf\n",
    "import cfplot as cfp\n",
    "cf.__version__"
   ]
  },
  {
   "cell_type": "code",
   "execution_count": null,
   "metadata": {
    "collapsed": false
   },
   "outputs": [],
   "source": [
    "# Read a data file\n",
    "f=cf.read('ncas_data/data1.nc')"
   ]
  },
  {
   "cell_type": "code",
   "execution_count": null,
   "metadata": {
    "collapsed": false
   },
   "outputs": [],
   "source": [
    "# View the contents of the file\n",
    "f\n"
   ]
  },
  {
   "cell_type": "code",
   "execution_count": null,
   "metadata": {
    "collapsed": false
   },
   "outputs": [],
   "source": [
    "# Select the air temperature\n",
    "temp=f.select('air_temperature')[0]\n"
   ]
  },
  {
   "cell_type": "code",
   "execution_count": null,
   "metadata": {
    "collapsed": false
   },
   "outputs": [],
   "source": [
    "# Select by index\n",
    "temp=f[2]\n",
    "print temp"
   ]
  },
  {
   "cell_type": "code",
   "execution_count": null,
   "metadata": {
    "collapsed": false
   },
   "outputs": [],
   "source": [
    "# Select by long_name\n",
    "vorticity=f.select('long_name:Potential vorticity')[0]"
   ]
  },
  {
   "cell_type": "code",
   "execution_count": null,
   "metadata": {
    "collapsed": false
   },
   "outputs": [],
   "source": [
    "# See a longer list of field contents\n",
    "print vorticity\n"
   ]
  },
  {
   "cell_type": "code",
   "execution_count": null,
   "metadata": {
    "collapsed": false
   },
   "outputs": [],
   "source": [
    "# Change the standard_name of the field\n",
    "vorticity.standard_name='ertel_potential_vorticity'\n",
    "\n",
    "# View properties\n",
    "vorticity.properties\n"
   ]
  },
  {
   "cell_type": "code",
   "execution_count": null,
   "metadata": {
    "collapsed": true
   },
   "outputs": [],
   "source": [
    "# Write the modified field to a netCDF file\n",
    "cf.write(vorticity, 'newfile.nc')"
   ]
  },
  {
   "cell_type": "markdown",
   "metadata": {},
   "source": [
    "# Contour plots"
   ]
  },
  {
   "cell_type": "code",
   "execution_count": null,
   "metadata": {
    "collapsed": false
   },
   "outputs": [],
   "source": [
    "# Use subspace to select the temperature at 500mb\n",
    "t_500=temp.subspace(Z=500)\n",
    "print t_500\n"
   ]
  },
  {
   "cell_type": "code",
   "execution_count": null,
   "metadata": {
    "collapsed": false,
    "scrolled": true
   },
   "outputs": [],
   "source": [
    "#Make a contour plot of the data\n",
    "cfp.con(t_500)\n"
   ]
  },
  {
   "cell_type": "code",
   "execution_count": null,
   "metadata": {
    "collapsed": false,
    "scrolled": true
   },
   "outputs": [],
   "source": [
    "# Use mapset to select Europe and make a new contour plot\n",
    "cfp.mapset(lonmin=-30, lonmax=30, latmin=20, latmax=70)\n",
    "cfp.con(t_500)\n"
   ]
  },
  {
   "cell_type": "code",
   "execution_count": null,
   "metadata": {
    "collapsed": false
   },
   "outputs": [],
   "source": [
    "# Make a Northern Hemiphere polar stereographic plot\n",
    "cfp.mapset(proj='npstere')\n",
    "cfp.con(t_500)\n",
    "cfp.mapset()\n"
   ]
  },
  {
   "cell_type": "code",
   "execution_count": null,
   "metadata": {
    "collapsed": false
   },
   "outputs": [],
   "source": [
    "# Select the zonal wind and make a zonal mean of this using the collapse function in cf-python\n",
    "u=f.select('eastward_wind')[0]\n",
    "u_mean=u.collapse('mean', 'longitude')\n",
    "print u_mean\n"
   ]
  },
  {
   "cell_type": "code",
   "execution_count": null,
   "metadata": {
    "collapsed": false
   },
   "outputs": [],
   "source": [
    "# Make a zonal mean zonal wind plot\n",
    "cfp.con(u_mean)\n"
   ]
  },
  {
   "cell_type": "code",
   "execution_count": null,
   "metadata": {
    "collapsed": false
   },
   "outputs": [],
   "source": [
    "# Make a log y-axis plot of the zonal mean zonal wind\n",
    "cfp.con(u_mean, ylog=True)\n"
   ]
  },
  {
   "cell_type": "markdown",
   "metadata": {
    "collapsed": true
   },
   "source": [
    "# Vector plots"
   ]
  },
  {
   "cell_type": "code",
   "execution_count": null,
   "metadata": {
    "collapsed": false
   },
   "outputs": [],
   "source": [
    "# Select u and v wind components at 500mb and make a vector plot\n",
    "# We use a stride of 4 in plotting the vectors as the points are close together\n",
    "u=f[7].subspace(pressure=500)\n",
    "v=f[9].subspace(pressure=500)\n",
    "cfp.vect(u=u, v=v, key_length=10, scale=100, stride=4)\n"
   ]
  },
  {
   "cell_type": "markdown",
   "metadata": {},
   "source": [
    "# Line plots"
   ]
  },
  {
   "cell_type": "code",
   "execution_count": null,
   "metadata": {
    "collapsed": false
   },
   "outputs": [],
   "source": [
    "# Select the zonal mean zonal wind at 100mb\n",
    "u=f[7]\n",
    "u_mean=u.collapse('X: mean')\n",
    "u_mean_100=u_mean.subspace(pressure=100)\n",
    "print u_mean_100\n"
   ]
  },
  {
   "cell_type": "code",
   "execution_count": null,
   "metadata": {
    "collapsed": false
   },
   "outputs": [],
   "source": [
    "cfp.lineplot(u_mean_100, marker='o', color='blue', title='Zonal mean zonal wind at 100mb')\n"
   ]
  },
  {
   "cell_type": "markdown",
   "metadata": {},
   "source": [
    "# Regridding\n",
    "Regrid some temperature longitude-latiude data to another grid and make a plot of the difference between the two datsets."
   ]
  },
  {
   "cell_type": "code",
   "execution_count": null,
   "metadata": {
    "collapsed": false
   },
   "outputs": [],
   "source": [
    "# Read in data on two different grids\n",
    "temp_era40=cf.read_field('ncas_data/data2.nc')\n",
    "temp_era_in=cf.read_field('ncas_data/data3.nc')\n",
    "\n",
    "print temp_era40, temp_era_in\n"
   ]
  },
  {
   "cell_type": "code",
   "execution_count": null,
   "metadata": {
    "collapsed": false
   },
   "outputs": [],
   "source": [
    "# Perform the regridding\n",
    "temp_regrid = temp_era_in.regrids(temp_era40, method='bilinear')\n"
   ]
  },
  {
   "cell_type": "code",
   "execution_count": null,
   "metadata": {
    "collapsed": false
   },
   "outputs": [],
   "source": [
    "# Make a contour plot of the difference between the two datasets\n",
    "cfp.con(temp_regrid-temp_era40, lines=False, title='era_interim - era40 difference')\n"
   ]
  },
  {
   "cell_type": "code",
   "execution_count": null,
   "metadata": {
    "collapsed": true
   },
   "outputs": [],
   "source": []
  }
 ],
 "metadata": {
  "anaconda-cloud": {},
  "kernelspec": {
   "display_name": "Python [default]",
   "language": "python",
   "name": "python2"
  },
  "language_info": {
   "codemirror_mode": {
    "name": "ipython",
    "version": 2
   },
   "file_extension": ".py",
   "mimetype": "text/x-python",
   "name": "python",
   "nbconvert_exporter": "python",
   "pygments_lexer": "ipython2",
   "version": "2.7.12"
  }
 },
 "nbformat": 4,
 "nbformat_minor": 1
}
