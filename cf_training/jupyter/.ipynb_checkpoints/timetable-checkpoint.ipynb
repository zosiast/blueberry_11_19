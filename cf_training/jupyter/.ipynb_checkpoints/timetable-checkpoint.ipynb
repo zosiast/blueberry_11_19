{
 "cells": [
  {
   "cell_type": "markdown",
   "metadata": {},
   "source": [
    "# NCAS Data tools - Wednesday 28th March\n",
    "\n",
    "## 09:30    Introduction\n",
    "## 10:00    Reading and manipulating data 1\n",
    "## 10:30    Exercise - Reading and manipulating data 1\n",
    "## 11:00    Coffee / Tea\n",
    "## 11:30    Reading and manipulating data 2\n",
    "## 12:00    Exercise - reading and manipulating data 2\n",
    "## 12:30    Lunch\n",
    "## 13:30    Contour plots\n",
    "## 14:00    Exercise - contour plots\n",
    "## 14:30    Regridding data\n",
    "## 15:00    Coffee / Tea\n",
    "## 15:30    Exercise - regridding data\n",
    "## 16:00    Vector, line and significance plots / Brief cf-view demonstration\n",
    "## 16:30    Wrap up / time for more exercises\n",
    "## 17:00    Finish"
   ]
  },
  {
   "cell_type": "code",
   "execution_count": null,
   "metadata": {
    "collapsed": true
   },
   "outputs": [],
   "source": []
  }
 ],
 "metadata": {
  "anaconda-cloud": {},
  "kernelspec": {
   "display_name": "Python [conda root]",
   "language": "python",
   "name": "conda-root-py"
  },
  "language_info": {
   "codemirror_mode": {
    "name": "ipython",
    "version": 2
   },
   "file_extension": ".py",
   "mimetype": "text/x-python",
   "name": "python",
   "nbconvert_exporter": "python",
   "pygments_lexer": "ipython2",
   "version": "2.7.12"
  }
 },
 "nbformat": 4,
 "nbformat_minor": 1
}
