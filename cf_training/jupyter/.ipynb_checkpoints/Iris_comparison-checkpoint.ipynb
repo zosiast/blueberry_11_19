{
 "cells": [
  {
   "cell_type": "markdown",
   "metadata": {},
   "source": [
    "# NCAS data tools comparison with Met Office Iris package "
   ]
  },
  {
   "cell_type": "markdown",
   "metadata": {},
   "source": [
    "# cf-python / cf-plot\n",
    "\n",
    "## Simple API - less code needed to manipulate data and make plots\n",
    "\n",
    "## Very flexible with data that isn't CF compliant\n",
    "\n",
    "## With cf-plot there is no need to know any Matplotlib commands\n",
    "\n",
    "## Uses ESMF to do regridding\n",
    "\n",
    "## Python 2.7 and Linux only\n",
    "\n",
    "## Can use Z or pressure in subspace etc\n",
    "\n",
    "## Uses Basemap for mapping\n",
    "\n",
    "## netCDF, PP and fields files reading, netCDF writing \n",
    "\n",
    "## Read 16,000 PP fields, aggregate, write netCDF. 30% faster in cf-python\n"
   ]
  },
  {
   "cell_type": "code",
   "execution_count": null,
   "metadata": {
    "collapsed": true
   },
   "outputs": [],
   "source": []
  },
  {
   "cell_type": "markdown",
   "metadata": {},
   "source": [
    "# Iris\n",
    "\n",
    "\n",
    "## More rigid in CF interpretation?\n",
    "\n",
    "## Python 2.7, 3.x and Windows, Mac versions\n",
    "\n",
    "## Internal routines build on SciPy interpolation \n",
    "\n",
    "## Uses Cartopy for mapping\n",
    "\n",
    "## netCDF, PP, fileds files, grib reading, netCDF, PP and grib writing\n"
   ]
  },
  {
   "cell_type": "code",
   "execution_count": null,
   "metadata": {
    "collapsed": true
   },
   "outputs": [],
   "source": [
    "\n",
    "\n",
    "\n"
   ]
  },
  {
   "cell_type": "code",
   "execution_count": null,
   "metadata": {
    "collapsed": true
   },
   "outputs": [],
   "source": [
    "# cf-python 2.1.6 and iris 2.0.0 data aggregation test\n",
    "\n",
    "# Read on 16600 PP files, aggregate, write netCDF as a test\n",
    "\n",
    "# cf-python  read and aggregated in 276 seconds, saving netCDF in 105 seconds\n",
    "# iris 2.0.0 read and aggregated in 395 seconds, saving netCDF in 130 seconds\n",
    "\n",
    "# cf-python is around 30% faster for the whole process than iris.\n",
    "\n",
    "\n",
    "# A few further details:\n",
    "# 1) iris cannot aggregate the specific_humidity,\n",
    "# surface_upward_sensible_heat_flux and surface_upward_water_flux\n",
    "# fields and leaves them as separate cubes.  cf-python aggregates all\n",
    "# the fields as expected.\n",
    "\n",
    "# 2) The cf-python netCDF file metadata read into cf-python in 0.72\n",
    "# seconds and in 0.94 seconds in iris.\n",
    "\n",
    "# 3) Reading the iris netcdf file into iris took 36 minutes\n",
    "# xconv cannot read the file either so it looks like the iris netCDF file is\n",
    "# broken to a certain extent. The file should be NETCDF4_CLASSIC as this was \n",
    "# requested\n",
    "\n",
    "# Cannot be read into cf-python and gives the error:\n",
    "#  bounds = g['formula_terms'][coord.ncvar]['bounds'].get(term)\n",
    "#  KeyError: 'level_pressure_48'\n",
    "\n"
   ]
  },
  {
   "cell_type": "markdown",
   "metadata": {},
   "source": [
    "# Example 1 - Make a surface temperature contour plot over the Atlantic"
   ]
  },
  {
   "cell_type": "code",
   "execution_count": null,
   "metadata": {
    "collapsed": true
   },
   "outputs": [],
   "source": [
    "%matplotlib inline"
   ]
  },
  {
   "cell_type": "code",
   "execution_count": null,
   "metadata": {
    "collapsed": false
   },
   "outputs": [],
   "source": [
    "# iris\n",
    "import iris\n",
    "import iris.quickplot as qplt\n",
    "import matplotlib.pyplot as plt\n",
    "import cartopy.crs as ccrs\n",
    "from cartopy.mpl.ticker import LongitudeFormatter, LatitudeFormatter\n",
    "from datetime import datetime\n",
    "\n",
    "# Read data\n",
    "temp=iris.load('ncas_data/data1.nc', 'air_temperature')[0]\n",
    "# Single field variant is iris.load_cube\n",
    "t1000 = temp.extract(iris.Constraint(p=1000, time=datetime(1964, 1, 21)))\n",
    "\n",
    "# or t1000=temp[0, 0, :, :]\n",
    "\n",
    "# Wrap around the longitude axis\n",
    "t1000_subset = t1000.intersection(longitude=(-90, 30))\n",
    "\n",
    "# Define the default projection\n",
    "proj = ccrs.PlateCarree()\n",
    "\n",
    "# Make a contour plot over the North Atlantic\n",
    "plt.figure(figsize=(12, 10)) \n",
    "\n",
    "ax = plt.axes(projection=proj)\n",
    "ax.set_extent((-80.0, 20.0, 10.0, 80.0))\n",
    "\n",
    "# Filled contour plot with contour lines and labels\n",
    "contourf=qplt.contourf(t1000_subset, 17)\n",
    "contour=qplt.contour(t1000_subset, 17, linewidth=2, colors='k')\n",
    "ax.clabel(contour, fmt='%d')\n",
    "\n",
    "\n",
    "# Label axes\n",
    "ax.set_xticks([-60, -30, 0])\n",
    "ax.set_yticks(range(10, 90, 10))\n",
    "lon_formatter = LongitudeFormatter(zero_direction_label=False)\n",
    "lat_formatter = LatitudeFormatter()\n",
    "ax.xaxis.set_major_formatter(lon_formatter)\n",
    "ax.yaxis.set_major_formatter(lat_formatter)\n",
    "\n",
    "ax.coastlines()\n",
    "plt.show()          \n",
    "           \n",
    "           "
   ]
  },
  {
   "cell_type": "code",
   "execution_count": null,
   "metadata": {
    "collapsed": false
   },
   "outputs": [],
   "source": [
    "# cf-python / cf-plot\n",
    "import cf\n",
    "import cfplot as cfp\n",
    "\n",
    "temp=cf.read('ncas_data/data1.nc', select='air_temperature')[0]\n",
    "t1000=temp.subspace(pressure=1000)\n",
    "\n",
    "cfp.mapset(-80,20, 10, 80)\n",
    "cfp.con(t1000)\n",
    "\n"
   ]
  },
  {
   "cell_type": "markdown",
   "metadata": {},
   "source": [
    "# Example 2 - make a contour and vector plot over lake Victoria"
   ]
  },
  {
   "cell_type": "code",
   "execution_count": null,
   "metadata": {
    "collapsed": false
   },
   "outputs": [],
   "source": [
    "# iris\n",
    "import matplotlib.pyplot as plt\n",
    "import numpy as np\n",
    "import iris\n",
    "import iris.quickplot as qplt\n",
    "import cartopy.feature as cfeat\n",
    "import cartopy.crs as ccrs\n",
    "\n",
    "\n",
    "# Load the u and v components of wind from a pp file\n",
    "infile = iris.load('wind_speed_lake_victoria.pp')\n",
    "uwind = infile[0]\n",
    "vwind = infile[1]\n",
    "\n",
    "ulon = uwind.coord('longitude')\n",
    "vlon = vwind.coord('longitude')\n",
    "\n",
    "# The longitude points go from 180 to 540, so subtract 360 from them\n",
    "ulon.points = ulon.points - 360.0\n",
    "vlon.points = vlon.points - 360.0\n",
    "\n",
    "# Create a cube containing the wind speed\n",
    "windspeed = (uwind ** 2 + vwind ** 2) ** 0.5\n",
    "windspeed.rename('windspeed')\n",
    "\n",
    "x = ulon.points\n",
    "y = uwind.coord('latitude').points\n",
    "u = uwind.data\n",
    "v = vwind.data\n",
    "\n",
    "# Set up axes to show the lake\n",
    "lakes = cfeat.NaturalEarthFeature('physical', 'lakes', '50m',\n",
    "                                  facecolor='none')\n",
    "\n",
    "plt.figure(figsize=(10, 10))\n",
    "ax = plt.axes(projection=ccrs.PlateCarree())\n",
    "ax.add_feature(lakes)\n",
    "\n",
    "# Get the coordinate reference system used by the data\n",
    "transform = ulon.coord_system.as_cartopy_projection()\n",
    "\n",
    "# Plot the wind speed as a contour plot\n",
    "qplt.contourf(windspeed, 20)\n",
    "\n",
    "# Add arrows to show the wind vectors\n",
    "quiv=plt.quiver(x, y, u, v, pivot='middle', scale=50, transform=transform)\n",
    "plt.quiverkey(quiv, 0.95, -0.15, 5, '5m/s')\n",
    "\n",
    "plt.title(\"Wind speed over Lake Victoria\")\n",
    "qplt.show()\n",
    "\n"
   ]
  },
  {
   "cell_type": "code",
   "execution_count": null,
   "metadata": {
    "collapsed": false
   },
   "outputs": [],
   "source": [
    "# cf-python / cf-plot\n",
    "import cf\n",
    "import cfplot as cfp\n",
    "\n",
    "f=cf.read('wind_speed_lake_victoria.pp')\n",
    "uwind = f[0]\n",
    "vwind = f[1]\n",
    "\n",
    "windspeed = (uwind ** 2 + vwind ** 2) ** 0.5\n",
    "windspeed.standard_name = 'windspeed'\n",
    "\n",
    "cfp.mapset(resolution='i')\n",
    "cfp.levs(0,3.5, 0.5, extend='max')\n",
    "cfp.cscale('scale1', below=0, above=10)\n",
    "\n",
    "cfp.gopen()\n",
    "cfp.con(windspeed, lines=False)\n",
    "cfp.vect(uwind, vwind, scale=10, key_length=5)\n",
    "cfp.gclose()"
   ]
  },
  {
   "cell_type": "code",
   "execution_count": null,
   "metadata": {
    "collapsed": true
   },
   "outputs": [],
   "source": [
    "# Zonal mean zonal wind plot\n",
    "\n",
    "\n",
    "# no example on the iris documentation web pages\n",
    "\n",
    "cfp.reset()\n"
   ]
  },
  {
   "cell_type": "code",
   "execution_count": null,
   "metadata": {
    "collapsed": false
   },
   "outputs": [],
   "source": [
    "# iris\n",
    "import iris\n",
    "import iris.quickplot as qplt\n",
    "import matplotlib.pyplot as plt\n",
    "from datetime import datetime\n",
    "\n",
    "\n",
    "# Read data\n",
    "u = iris.load('ncas_data/data1.nc', 'eastward_wind')[0]\n",
    "u = u.extract(iris.Constraint(time=datetime(1964, 1, 21)))\n",
    "\n",
    "u_mean = u.collapsed('longitude', iris.analysis.MEAN)\n",
    "\n",
    "\n",
    "plt.figure(figsize=(10, 10))\n",
    "plt.axis([-90.0, 90.0, 1000.0, 0.0])\n",
    "\n",
    "contourf=qplt.contourf(u_mean, 17)\n",
    "contour=qplt.contour(u_mean, 17, linewidth=2, colors='k')\n",
    "plt.clabel(contour, fmt='%d')\n",
    "\n",
    "qplt.show()\n",
    "\n"
   ]
  },
  {
   "cell_type": "code",
   "execution_count": null,
   "metadata": {
    "collapsed": false
   },
   "outputs": [],
   "source": [
    "# cf-python / cf-plot\n",
    "import cf\n",
    "import cfplot as cfp\n",
    "\n",
    "f=cf.read('ncas_data/data1.nc', select='eastward_wind')[0]\n",
    "cfp.con(f.collapse('mean','longitude'))"
   ]
  },
  {
   "cell_type": "code",
   "execution_count": null,
   "metadata": {
    "collapsed": true
   },
   "outputs": [],
   "source": []
  }
 ],
 "metadata": {
  "anaconda-cloud": {},
  "kernelspec": {
   "display_name": "Python [default]",
   "language": "python",
   "name": "python2"
  },
  "language_info": {
   "codemirror_mode": {
    "name": "ipython",
    "version": 2
   },
   "file_extension": ".py",
   "mimetype": "text/x-python",
   "name": "python",
   "nbconvert_exporter": "python",
   "pygments_lexer": "ipython2",
   "version": "2.7.12"
  }
 },
 "nbformat": 4,
 "nbformat_minor": 1
}
